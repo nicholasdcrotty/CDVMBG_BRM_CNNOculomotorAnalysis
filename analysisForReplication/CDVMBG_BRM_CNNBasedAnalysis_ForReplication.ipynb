{
  "cells": [
    {
      "cell_type": "markdown",
      "metadata": {
        "id": "view-in-github",
        "colab_type": "text"
      },
      "source": [
        "<a href=\"https://colab.research.google.com/github/nicholasdcrotty/CDVMBG_BRM_CNNOculomotorAnalysis/blob/main/analysisForReplication/CDVMBG_BRM_CNNBasedAnalysis_ForReplication.ipynb\" target=\"_parent\"><img src=\"https://colab.research.google.com/assets/colab-badge.svg\" alt=\"Open In Colab\"/></a>"
      ]
    },
    {
      "cell_type": "markdown",
      "metadata": {
        "id": "dI-u-xCg8M5Z"
      },
      "source": [
        "\n",
        "\n",
        "# Using CNNs to analyze oculomotor timecourse data - Replicating observed results from Crotty, Doyle, Volkova, Massa, Benson, & Grubb (in prep)\n"
      ]
    },
    {
      "cell_type": "markdown",
      "source": [
        "Before running this code, make sure to select a fast runtime (either your own local runtime or one provided by Colab), as the model fitting procedure and SHAP analysis takes quite some time on the CPU alone. **NOTE: Due to the inherent stochasticty in the neural network fitting process, the resulting classification accuracy may be slightly different from the values reported in the manuscript.**\n",
        "\n",
        "\n"
      ],
      "metadata": {
        "id": "LXgnnJqpu3I0"
      }
    },
    {
      "cell_type": "markdown",
      "source": [
        "**Before running this code**, you need to load the data files from the corresponding study into the Colab environment. To do so, click the file icon on the left sidebar, click the \"Upload to session storage\" icon (the page icon with the upwards arrow) and upload the matching features and conditions files. There should be two feature `.csv` files and one conditions `.csv`. file"
      ],
      "metadata": {
        "id": "2rPv2WIwLHar"
      }
    },
    {
      "cell_type": "markdown",
      "source": [
        "# **--------Section 1: Loading in data and preprocessing--------**\n",
        "\n",
        "This section needs to be run regardless if you are newly fitting the networks to data or replicating the exact manuscript results. **Prior to running this code**, make sure you have loaded the oculomotor data `.csv` files (for both the x- and y-position) and the conditions `.csv` file."
      ],
      "metadata": {
        "id": "tPcoIf5bb3rQ"
      }
    },
    {
      "cell_type": "markdown",
      "source": [
        "## Load in necessary libraries"
      ],
      "metadata": {
        "id": "BVYiAH0HIaMg"
      }
    },
    {
      "cell_type": "code",
      "execution_count": 2,
      "metadata": {
        "id": "jq6Gzp5X8M5Z",
        "colab": {
          "base_uri": "https://localhost:8080/"
        },
        "outputId": "1158b44d-fbb0-4cfa-b927-aea257715e31"
      },
      "outputs": [
        {
          "output_type": "stream",
          "name": "stdout",
          "text": [
            "Requirement already satisfied: shap in /usr/local/lib/python3.12/dist-packages (0.48.0)\n",
            "Requirement already satisfied: numpy in /usr/local/lib/python3.12/dist-packages (from shap) (2.0.2)\n",
            "Requirement already satisfied: scipy in /usr/local/lib/python3.12/dist-packages (from shap) (1.16.1)\n",
            "Requirement already satisfied: scikit-learn in /usr/local/lib/python3.12/dist-packages (from shap) (1.6.1)\n",
            "Requirement already satisfied: pandas in /usr/local/lib/python3.12/dist-packages (from shap) (2.2.2)\n",
            "Requirement already satisfied: tqdm>=4.27.0 in /usr/local/lib/python3.12/dist-packages (from shap) (4.67.1)\n",
            "Requirement already satisfied: packaging>20.9 in /usr/local/lib/python3.12/dist-packages (from shap) (25.0)\n",
            "Requirement already satisfied: slicer==0.0.8 in /usr/local/lib/python3.12/dist-packages (from shap) (0.0.8)\n",
            "Requirement already satisfied: numba>=0.54 in /usr/local/lib/python3.12/dist-packages (from shap) (0.61.2)\n",
            "Requirement already satisfied: cloudpickle in /usr/local/lib/python3.12/dist-packages (from shap) (3.1.1)\n",
            "Requirement already satisfied: typing-extensions in /usr/local/lib/python3.12/dist-packages (from shap) (4.15.0)\n",
            "Requirement already satisfied: llvmlite<0.45,>=0.44.0dev0 in /usr/local/lib/python3.12/dist-packages (from numba>=0.54->shap) (0.44.0)\n",
            "Requirement already satisfied: python-dateutil>=2.8.2 in /usr/local/lib/python3.12/dist-packages (from pandas->shap) (2.9.0.post0)\n",
            "Requirement already satisfied: pytz>=2020.1 in /usr/local/lib/python3.12/dist-packages (from pandas->shap) (2025.2)\n",
            "Requirement already satisfied: tzdata>=2022.7 in /usr/local/lib/python3.12/dist-packages (from pandas->shap) (2025.2)\n",
            "Requirement already satisfied: joblib>=1.2.0 in /usr/local/lib/python3.12/dist-packages (from scikit-learn->shap) (1.5.2)\n",
            "Requirement already satisfied: threadpoolctl>=3.1.0 in /usr/local/lib/python3.12/dist-packages (from scikit-learn->shap) (3.6.0)\n",
            "Requirement already satisfied: six>=1.5 in /usr/local/lib/python3.12/dist-packages (from python-dateutil>=2.8.2->pandas->shap) (1.17.0)\n"
          ]
        }
      ],
      "source": [
        "# libraries related to neural network\n",
        "import torch\n",
        "from torch import nn\n",
        "from torch.utils.data import Dataset, DataLoader\n",
        "\n",
        "# libraries related to input/output arrays\n",
        "import numpy as np\n",
        "import pandas as pd\n",
        "\n",
        "#libraries related to importing data into script\n",
        "from google.colab import files\n",
        "\n",
        "#libraries related to graphing NN results\n",
        "import matplotlib.pyplot as plt\n",
        "import seaborn as sns\n",
        "\n",
        "#SHAP values\n",
        "!pip install shap\n",
        "import shap"
      ]
    },
    {
      "cell_type": "markdown",
      "source": [
        "## Indicate which set of results to replicate here!"
      ],
      "metadata": {
        "id": "o1exGL0b2Qnx"
      }
    },
    {
      "cell_type": "code",
      "source": [
        "potentialReplications = [\"massaTarget\", \"grubbLiTarget\", \"massaDistractor\", \"grubbLiDistractor\"] #choose from one of these four\n",
        "replicateAnalysis = \"grubbLiTarget\"\n",
        "\n",
        "fitNew = True\n",
        "#Do you want to newly fit the networks to data (True)\n",
        "#or replicate the exact results reported in the manuscript (False)?"
      ],
      "metadata": {
        "id": "26UuV_Y91vvP"
      },
      "execution_count": 3,
      "outputs": []
    },
    {
      "cell_type": "markdown",
      "source": [
        "## Update script with correct experimental details"
      ],
      "metadata": {
        "id": "HmtRgpaLAAQI"
      }
    },
    {
      "cell_type": "code",
      "source": [
        "#details for first section of results - CNN predicting target location from Massa et al. (2024) dataset\n",
        "if replicateAnalysis == \"massaTarget\":\n",
        "  details = {\"desiredLabel\": \"targetLocation\", \"inputFeatures\" : 2, \"outputClasses\" : 6, \"removeNAs\" : False, \"removeRowLabels\" : True, \"numericallyEncode\" : True}\n",
        "  print(\"CNN predicting target location from Massa et al. (2024) dataset\")\n",
        "\n",
        "#details for second section of results - CNN predicting target location from Grubb & Li (2018) dataset\n",
        "elif replicateAnalysis == \"grubbLiTarget\":\n",
        "  details = {\"desiredLabel\": \"targetLocation\", \"inputFeatures\" : 2, \"outputClasses\" : 6, \"removeNAs\" : False, \"removeRowLabels\" : True, \"numericallyEncode\" : True}\n",
        "  print(\"CNN predicting target location from Grubb & Li (2018) dataset\")\n",
        "\n",
        "#details for third section of results - CNN predicting distractor location from Massa et al. (2024) dataset\n",
        "elif replicateAnalysis == \"massaDistractor\":\n",
        "  details = {\"desiredLabel\": \"valueDistractorLocation\", \"inputFeatures\" : 2, \"outputClasses\" : 6, \"removeNAs\" : True, \"removeRowLabels\" : True, \"numericallyEncode\" : True}\n",
        "  print(\"CNN predicting distractor location from Massa et al. (2024) dataset\")\n",
        "\n",
        "#details for fourth section of results - CNN predicting distractor location from Grubb & Li (2018) dataset\n",
        "elif replicateAnalysis == \"grubbLiDistractor\":\n",
        "  details = {\"desiredLabel\": \"distractorLocation\", \"inputFeatures\" : 2, \"outputClasses\" : 6, \"removeNAs\" : True, \"removeRowLabels\" : True, \"numericallyEncode\" : True}\n",
        "  print(\"CNN predicting distractor location from Grubb & Li (2018) dataset\")"
      ],
      "metadata": {
        "id": "2_ALLXvi3chp",
        "colab": {
          "base_uri": "https://localhost:8080/"
        },
        "outputId": "8ac609b2-b40e-455b-af8f-8c19351cf2af"
      },
      "execution_count": 4,
      "outputs": [
        {
          "output_type": "stream",
          "name": "stdout",
          "text": [
            "CNN predicting target location from Grubb & Li (2018) dataset\n"
          ]
        }
      ]
    },
    {
      "cell_type": "markdown",
      "source": [
        "## Update scripts with correct name for saving out objects\n",
        "\n",
        "The strings below will be inserted into the corresponding file name for each object."
      ],
      "metadata": {
        "id": "FM2IYWd_fdlK"
      }
    },
    {
      "cell_type": "code",
      "source": [
        "if replicateAnalysis == \"massaTarget\":\n",
        "  analysisString = \"MassaTargLoc\"\n",
        "elif replicateAnalysis == \"grubbLiTarget\":\n",
        "  analysisString = \"GrubbLiTargLoc\"\n",
        "elif replicateAnalysis == \"massaDistractor\":\n",
        "  analysisString = \"MassaDistLoc\"\n",
        "elif replicateAnalysis == \"grubbLiDistractor\":\n",
        "  analysisString = \"GrubbLiDistLoc\""
      ],
      "metadata": {
        "id": "fLyWUL8Dfw3Y"
      },
      "execution_count": 5,
      "outputs": []
    },
    {
      "cell_type": "markdown",
      "source": [
        "## Load in data"
      ],
      "metadata": {
        "id": "dmAwA_TSQ2XP"
      }
    },
    {
      "cell_type": "code",
      "source": [
        "#upload = files.upload() #The GUI is actually much faster at this\n",
        "\n",
        "#load in data if replicating analyses using Massa et al. (2024) dataset\n",
        "if replicateAnalysis == \"massaTarget\" or replicateAnalysis == \"massaDistractor\":\n",
        "  feature1 = pd.read_csv('CDVMBG_BRM_Massa_XPos.csv')\n",
        "  feature2 = pd.read_csv('CDVMBG_BRM_Massa_YPos.csv')\n",
        "  conditions = pd.read_csv('CDVMBG_BRM_Massa_Conditions.csv')\n",
        "  print(\"Massa dataset read\")\n",
        "\n",
        "#load in data if replicating analyses using Grubb & Li (2018) dataset\n",
        "elif replicateAnalysis == \"grubbLiTarget\" or replicateAnalysis == \"grubbLiDistractor\":\n",
        "  feature1 = pd.read_csv('CDVMBG_BRM_GrubbLi_XPos.csv')\n",
        "  feature2 = pd.read_csv('CDVMBG_BRM_GrubbLi_YPos.csv')\n",
        "  conditions = pd.read_csv('CDVMBG_BRM_GrubbLi_Conditions.csv')\n",
        "  print(\"Grubb & Li dataset read\")\n",
        "\n",
        "\n",
        "#format data into 3d numpy array\n",
        "if (details[\"inputFeatures\"] == 1):\n",
        "  arr2d = feature1.values\n",
        "  data = arr2d[:, np.newaxis,:]\n",
        "else:\n",
        "  data = np.stack((feature1, feature2), axis=1)\n",
        "#remove row labels if needed\n",
        "if details[\"removeRowLabels\"] == True:\n",
        "  data = data[:,:,1:]\n",
        "\n",
        "print(data.shape)"
      ],
      "metadata": {
        "id": "RNOrAMS-SglC",
        "colab": {
          "base_uri": "https://localhost:8080/"
        },
        "outputId": "6bfcbf58-a088-4603-bee6-114484e9e486"
      },
      "execution_count": 6,
      "outputs": [
        {
          "output_type": "stream",
          "name": "stdout",
          "text": [
            "Grubb & Li dataset read\n",
            "(23280, 2, 600)\n"
          ]
        }
      ]
    },
    {
      "cell_type": "markdown",
      "source": [
        "## Extract desired labels from conditions datafile"
      ],
      "metadata": {
        "id": "A1YKRS0cv8oi"
      }
    },
    {
      "cell_type": "code",
      "source": [
        "label = details['desiredLabel']\n",
        "\n",
        "#remove NA values if necessary (e.g., if search object is absent on some trials)\n",
        "if details[\"removeNAs\"] == True:\n",
        "  data = data[conditions[label].isna()==False, :, :]\n",
        "  conditions = conditions[conditions[label].isna()==False]\n",
        "\n",
        "#extract label information from conditions file - this will serve as the comparison during supervised learning\n",
        "label = details['desiredLabel']\n",
        "labels = conditions[label].astype(int)\n",
        "\n",
        "#numerical encoding of labels -- The actual method of encoding can change based on your data.\n",
        "#the example encoding is what we used for our reported analyses.\n",
        "if details[\"numericallyEncode\"] == True:\n",
        "  labels = labels.map({0:0, 60:1, 120:2, 180:3, 240:4, 300:5})\n",
        "\n",
        "print(labels.head())"
      ],
      "metadata": {
        "id": "7H3FVtj4v3U9",
        "colab": {
          "base_uri": "https://localhost:8080/"
        },
        "outputId": "eb0c8583-68b9-42ff-93ad-576b1362f90e"
      },
      "execution_count": 7,
      "outputs": [
        {
          "output_type": "stream",
          "name": "stdout",
          "text": [
            "0    3\n",
            "1    5\n",
            "2    2\n",
            "3    2\n",
            "4    5\n",
            "Name: targetLocation, dtype: int64\n"
          ]
        }
      ]
    },
    {
      "cell_type": "markdown",
      "source": [
        "## Remove trials with missing eye data"
      ],
      "metadata": {
        "id": "yYnzqQX93Oxg"
      }
    },
    {
      "cell_type": "code",
      "source": [
        "origin = [2559/2,1439/2]\n",
        "missingTrials = []\n",
        "for r in range(0, len(data)):\n",
        "  missingSamplesX = data[r,0,:] == origin[0]\n",
        "  missingSamplesY = data[r,1,:] == origin[1]\n",
        "  if (missingSamplesX.mean() == 1 and missingSamplesX.mean() == 1):\n",
        "    missingTrials.append(r)\n",
        "data = np.delete(data, missingTrials, axis=0)\n",
        "labels = labels.drop(labels.index[missingTrials])"
      ],
      "metadata": {
        "id": "3Dmd2PSx3NqB"
      },
      "execution_count": 8,
      "outputs": []
    },
    {
      "cell_type": "markdown",
      "source": [
        "## Training-validation split (66% training, 33% validation)"
      ],
      "metadata": {
        "id": "c-NfFNwuxivI"
      }
    },
    {
      "cell_type": "code",
      "source": [
        "N, R, C = data.shape\n",
        "\n",
        "#find number of training/test trials (if data is not divisible by 3, add extras to training set)\n",
        "n_test = int(np.ceil(N / 3))\n",
        "n_train = N - n_test\n",
        "\n",
        "#predefine dataframes with corresponding trial lengths\n",
        "training_data = np.zeros((n_train, R, C))\n",
        "test_data = np.zeros((n_test, R, C))\n",
        "\n",
        "training_labels = []\n",
        "test_labels = []\n",
        "\n",
        "trainCounter = 0\n",
        "testCounter = 0\n",
        "\n",
        "for i in range(0, len(data)):\n",
        "  if i % 3 == 0: #every third trial, add data and label to validation set\n",
        "    test_data[testCounter, :, : ] = data[i, :, :]\n",
        "    test_labels.append(labels.iloc[i])\n",
        "    testCounter += 1\n",
        "  else: #otherwise, add data and label to training set\n",
        "    training_data[trainCounter, :, : ] = data[i, :, :]\n",
        "    training_labels.append(labels.iloc[i])\n",
        "    trainCounter += 1\n",
        "\n",
        "training_labels = pd.Series(training_labels)\n",
        "test_labels = pd.Series(test_labels)\n",
        "\n",
        "print(training_data.shape, test_data.shape)"
      ],
      "metadata": {
        "id": "mmk-AIP3xqOF",
        "colab": {
          "base_uri": "https://localhost:8080/"
        },
        "outputId": "08ec5213-6c16-4f8a-fe70-6962a01a68a4"
      },
      "execution_count": 9,
      "outputs": [
        {
          "output_type": "stream",
          "name": "stdout",
          "text": [
            "(15050, 2, 600) (7526, 2, 600)\n"
          ]
        }
      ]
    },
    {
      "cell_type": "markdown",
      "source": [
        "## Pre-process data"
      ],
      "metadata": {
        "id": "m9mb9MoATOEk"
      }
    },
    {
      "cell_type": "code",
      "source": [
        "#transform numpy data to tensor\n",
        "training_data = torch.from_numpy(training_data)\n",
        "test_data = torch.from_numpy(test_data)\n",
        "\n",
        "#change to float type - more easily handled by training + test loops\n",
        "training_data = training_data.float()\n",
        "test_data = test_data.float()"
      ],
      "metadata": {
        "id": "pGX7ZkgOUhC7"
      },
      "execution_count": 10,
      "outputs": []
    },
    {
      "cell_type": "markdown",
      "source": [
        "## Check dimensions of test data and labels"
      ],
      "metadata": {
        "id": "edIcRkTowJDm"
      }
    },
    {
      "cell_type": "code",
      "source": [
        "print(test_data.shape)\n",
        "#trials, features, samples\n",
        "\n",
        "print(test_labels.shape)\n",
        "# 1-dimensional tensor of identical length to rows of test data"
      ],
      "metadata": {
        "id": "BBQ8GhxzwO3S",
        "colab": {
          "base_uri": "https://localhost:8080/"
        },
        "outputId": "7c5689ba-0c25-49e8-a627-b59337d185f2"
      },
      "execution_count": 11,
      "outputs": [
        {
          "output_type": "stream",
          "name": "stdout",
          "text": [
            "torch.Size([7526, 2, 600])\n",
            "(7526,)\n"
          ]
        }
      ]
    },
    {
      "cell_type": "markdown",
      "source": [
        "## Determine size of flattened output passed to first linear transform\n",
        "\n",
        "This varies based on the length of your trial and number of features. For all analyses reported in the current ms, the flattened output will be 7076 values."
      ],
      "metadata": {
        "id": "Ph5-Bt0mEJx-"
      }
    },
    {
      "cell_type": "code",
      "source": [
        "sizeChecker = nn.Sequential( #the same layers as the first portion of the CNN, just to see what that layer's output size will be\n",
        "        nn.Conv1d(in_channels = details[\"inputFeatures\"], out_channels = 64, kernel_size = 3),\n",
        "        nn.ReLU(),\n",
        "        nn.Dropout(0.25),\n",
        "        nn.MaxPool1d(kernel_size=5),\n",
        "        nn.Flatten()\n",
        "        )\n",
        "tmp = sizeChecker(test_data[0:1,:,:])\n",
        "flattenOutput = tmp.shape[1]\n",
        "print(flattenOutput)"
      ],
      "metadata": {
        "id": "f-1TWELREcce",
        "colab": {
          "base_uri": "https://localhost:8080/"
        },
        "outputId": "6a2caf15-21c5-43ee-fca9-768432497d1f"
      },
      "execution_count": 12,
      "outputs": [
        {
          "output_type": "stream",
          "name": "stdout",
          "text": [
            "7616\n"
          ]
        }
      ]
    },
    {
      "cell_type": "markdown",
      "source": [
        "## Initialize the neural network\n"
      ],
      "metadata": {
        "id": "yN8rLWuNkoCq"
      }
    },
    {
      "cell_type": "code",
      "source": [
        "class NeuralNetwork(nn.Module):\n",
        "    def __init__(self):\n",
        "        super().__init__()\n",
        "        #Flattening layer (gets called after Sequential convolution layer)\n",
        "        self.flatten = nn.Flatten()\n",
        "\n",
        "        #Sequential layer containing convolution and subsequent regularization methods\n",
        "        self.cnnL1 = nn.Sequential(\n",
        "        nn.Conv1d(in_channels = details[\"inputFeatures\"], out_channels = 64, kernel_size = 3),\n",
        "        nn.ReLU(),\n",
        "        nn.Dropout(0.25),\n",
        "        nn.MaxPool1d(kernel_size=5),\n",
        "        )\n",
        "\n",
        "        #Linear transforms\n",
        "        self.lin = nn.Linear(in_features = flattenOutput, out_features = 64)\n",
        "        self.lin2 = nn.Linear(in_features = 64, out_features = 32)\n",
        "        self.lin3 = nn.Linear(in_features = 32, out_features = details[\"outputClasses\"]) #Output is X number of logits, to be used as the CNN's predictions with loss function\n",
        "\n",
        "    def forward(self, x):\n",
        "        #apply convolution\n",
        "        conv = self.cnnL1(x)\n",
        "\n",
        "        #rearrage resulting array for proper order during flattening\n",
        "        permuted = conv.permute(0,2,1)\n",
        "\n",
        "        #flatten array into one-dimensional tensor\n",
        "        flattened = self.flatten(permuted)\n",
        "\n",
        "        #linear transforms, with logits as output\n",
        "        linear = self.lin(flattened)\n",
        "        linear2 = self.lin2(linear)\n",
        "        logits = self.lin3(linear2)\n",
        "        return logits\n",
        "\n",
        "model = NeuralNetwork()"
      ],
      "metadata": {
        "id": "ACZkKG4W8ljE"
      },
      "execution_count": 13,
      "outputs": []
    },
    {
      "cell_type": "markdown",
      "source": [
        "## Initialize Early Stopping class"
      ],
      "metadata": {
        "id": "VMZ14NwJn5a6"
      }
    },
    {
      "cell_type": "code",
      "source": [
        "#EarlyStopping class used in pytorchtools library\n",
        "#source: https://github.com/Bjarten/early-stopping-pytorch/blob/master/pytorchtools.py\n",
        "class EarlyStopping:\n",
        "    \"\"\"Early stops the training if validation loss doesn't improve after a given patience.\"\"\"\n",
        "    def __init__(self, patience=7, verbose=False, delta=0, path='checkpoint.pth', trace_func=print):\n",
        "        \"\"\"\n",
        "        Args:\n",
        "            patience (int): How long to wait after last time validation loss improved.\n",
        "                            Default: 7\n",
        "            verbose (bool): If True, prints a message for each validation loss improvement.\n",
        "                            Default: False\n",
        "            delta (float): Minimum change in the monitored quantity to qualify as an improvement.\n",
        "                            Default: 0\n",
        "            path (str): Path for the checkpoint to be saved to.\n",
        "                            Default: 'checkpoint.pt'\n",
        "            trace_func (function): trace print function.\n",
        "                            Default: print\n",
        "        \"\"\"\n",
        "        self.patience = patience\n",
        "        self.verbose = verbose\n",
        "        self.counter = 0\n",
        "        self.best_score = None\n",
        "        self.early_stop = False\n",
        "        self.val_loss_min = np.inf\n",
        "        self.delta = delta\n",
        "        self.path = path\n",
        "        self.trace_func = trace_func\n",
        "    def __call__(self, val_loss, model):\n",
        "\n",
        "        score = -val_loss\n",
        "\n",
        "        if self.best_score is None:\n",
        "            self.best_score = score\n",
        "            self.save_checkpoint(val_loss, model)\n",
        "        elif score < self.best_score + self.delta:\n",
        "            self.counter += 1\n",
        "            self.trace_func(f'EarlyStopping counter: {self.counter} out of {self.patience}')\n",
        "            if self.counter >= self.patience:\n",
        "                self.early_stop = True\n",
        "        else:\n",
        "            self.best_score = score\n",
        "            self.save_checkpoint(val_loss, model)\n",
        "            self.counter = 0\n",
        "\n",
        "    def save_checkpoint(self, val_loss, model):\n",
        "        '''Saves model when validation loss decrease.'''\n",
        "        if self.verbose:\n",
        "            self.trace_func(f'Validation loss decreased ({self.val_loss_min:.6f} --> {val_loss:.6f}).  Saving model ...')\n",
        "        torch.save(model.state_dict(), self.path)\n",
        "        self.val_loss_min = val_loss"
      ],
      "metadata": {
        "id": "sLRQp8xF7Ua9"
      },
      "execution_count": 14,
      "outputs": []
    },
    {
      "cell_type": "markdown",
      "source": [
        "## Define a Custom Dataset object that stores the samples and the labels together for each trial"
      ],
      "metadata": {
        "id": "8QBhH8cutUmr"
      }
    },
    {
      "cell_type": "code",
      "source": [
        "class CustomDataset(Dataset):\n",
        "    def __init__(self, labelsObject, dataObject, transform=None, target_transform=None):\n",
        "        self.labels = labelsObject\n",
        "        self.dataframe = dataObject\n",
        "        self.transform = transform #in case data needs to be transformed to a different type\n",
        "        self.target_transform = target_transform #in case labels need to be transformed to a different type\n",
        "\n",
        "    def __len__(self):\n",
        "        return len(self.labels)\n",
        "\n",
        "    def __getitem__(self, idx):\n",
        "        data = self.dataframe[idx]\n",
        "        label = self.labels.iloc[idx]\n",
        "        if self.transform:\n",
        "            data = self.transform(data)\n",
        "        if self.target_transform:\n",
        "            label = self.target_transform(label)\n",
        "        return data, label"
      ],
      "metadata": {
        "id": "xJXrHXi_D1Yj"
      },
      "execution_count": 15,
      "outputs": []
    },
    {
      "cell_type": "markdown",
      "source": [
        "## Create the CustomDatasets for training and validation data"
      ],
      "metadata": {
        "id": "3XSb2czvtzbP"
      }
    },
    {
      "cell_type": "code",
      "source": [
        "train = CustomDataset(labelsObject = training_labels, dataObject = training_data)\n",
        "test = CustomDataset(labelsObject = test_labels, dataObject = test_data)"
      ],
      "metadata": {
        "id": "xDWngfZatzlY"
      },
      "execution_count": 16,
      "outputs": []
    },
    {
      "cell_type": "markdown",
      "source": [
        "## Create DataLoader objects containing the training and test data/labels"
      ],
      "metadata": {
        "id": "gMMqp0N4UzoL"
      }
    },
    {
      "cell_type": "code",
      "source": [
        "batch_size = 64\n",
        "train_dataloader = DataLoader(train, batch_size=batch_size, drop_last=False)\n",
        "test_dataloader = DataLoader(test, batch_size=batch_size, drop_last=False)"
      ],
      "metadata": {
        "id": "lnJkTN0HFjEU"
      },
      "execution_count": 17,
      "outputs": []
    },
    {
      "cell_type": "markdown",
      "metadata": {
        "id": "wiT4f2wY8M5a"
      },
      "source": [
        "## Hyperparameters & Optimizer\n",
        "\n",
        "\n"
      ]
    },
    {
      "cell_type": "code",
      "execution_count": 18,
      "metadata": {
        "id": "vxegQ-898M5a"
      },
      "outputs": [],
      "source": [
        "#Hyperparameters\n",
        "learning_rate = 1e-3\n",
        "gamma = 0.9\n",
        "epochs = 2500 #arbitrary large number to give time for early stopping to occur\n",
        "loss_fn = nn.CrossEntropyLoss()\n",
        "\n",
        "#Adam optimizer\n",
        "optimizer = torch.optim.Adam(model.parameters(), lr=learning_rate)\n",
        "scheduler = torch.optim.lr_scheduler.ExponentialLR(optimizer, gamma=gamma)"
      ]
    },
    {
      "cell_type": "markdown",
      "metadata": {
        "id": "AJGLYx-r8M5b"
      },
      "source": [
        "\n",
        "## Full Implementation\n",
        "\n"
      ]
    },
    {
      "cell_type": "code",
      "execution_count": 19,
      "metadata": {
        "id": "eshSqRXG8M5c"
      },
      "outputs": [],
      "source": [
        "def train_model(dataloader, model, loss_fn, optimizer, scheduler):\n",
        "    size = len(dataloader.dataset)\n",
        "    model.train() #set the model to training mode - important for batch normalization and dropout layers\n",
        "    for batch, (X, y) in enumerate(dataloader):\n",
        "\n",
        "        #compute prediction and loss\n",
        "        pred = model(X)\n",
        "        loss = loss_fn(pred, y)\n",
        "\n",
        "        #backpropagation\n",
        "        loss.backward()\n",
        "        optimizer.step()\n",
        "        optimizer.zero_grad()\n",
        "\n",
        "        #print current loss every 20 batches\n",
        "        if batch % 20 == 0:\n",
        "            loss, current = loss.item(), batch * batch_size + len(X)\n",
        "            print(f\"loss: {loss:>7f}  [{current:>5d}/{size:>5d}]\")\n",
        "\n",
        "    #learning rate decay\n",
        "    scheduler.step()\n",
        "\n",
        "\n",
        "def test_model(dataloader, model, loss_fn, trialLevelDF, predictionDF, logitDF, epNum = 0, earlyStop=\"none\", lossChecker = \"none\", mode = \"loss\"):\n",
        "    size = len(dataloader.dataset)\n",
        "    model.eval() #set the model to evaluation mode - important for batch normalization and dropout layers\n",
        "\n",
        "    num_batches = len(dataloader)\n",
        "    test_loss, correct = 0, 0\n",
        "\n",
        "    #evaluating the model with torch.no_grad() ensures that no gradients are computed during test mode\n",
        "    with torch.no_grad():\n",
        "      batchCount = 0\n",
        "      for X, y in dataloader:\n",
        "          pred = model(X) #apply model to batch\n",
        "          predSize = len(pred) #rows of pred\n",
        "          for p in (range(predSize)): #iterate through current batch to get trial-level accuracies\n",
        "\n",
        "              #determine whether there was a correct or incorrect prediction on the current dataframe\n",
        "              trialAcc = (pred[p].argmax().item() == y[p].item())\n",
        "              prediction = pred[p].argmax().item()\n",
        "              logits = pred[p]\n",
        "\n",
        "              #save trial-level accuracy to initialized dataframe\n",
        "              trialLevelDF.iloc[(batch_size*batchCount)+p,epNum] = trialAcc\n",
        "              predictionDF.iloc[(batch_size*batchCount)+p,epNum] = prediction\n",
        "              logitDF.iloc[(batch_size*batchCount)+p,:] = logits\n",
        "\n",
        "          #update loss and accuracy metrics for reporting\n",
        "          test_loss += loss_fn(pred, y).item()\n",
        "          correct += (pred.argmax(1) == y).type(torch.float).sum().item() #same calculation as above, but performed for entire batch at once\n",
        "          batchCount+=1\n",
        "\n",
        "    #compute overall loss and accuracy\n",
        "    test_loss /= num_batches\n",
        "    correct /= size\n",
        "\n",
        "    #if we want to save the CNN's lowest loss value, record that minimum loss and the epoch where it occurred\n",
        "    if lossChecker != \"none\" and test_loss < lossChecker[0]:\n",
        "      lossChecker[0] = test_loss\n",
        "      lossChecker[1] = epNum\n",
        "\n",
        "    #if we want to implement early stopping, apply early stopping\n",
        "    if earlyStop != \"none\":\n",
        "      earlyStop(test_loss, model)\n",
        "\n",
        "    #print the relevant performance metrics -- loss, accuracy, or both\n",
        "    if mode == \"loss\":\n",
        "      print(f\"Epoch {epNum+1} complete! \\n Current loss: {test_loss:>8f}    Lowest loss: {lossChecker[0]:>8f} \\n\")\n",
        "    elif mode == \"accuracy\":\n",
        "      print(f\"Accuracy: {(100*correct):>8f}% \\n\")\n",
        "    elif mode ==\"both\":\n",
        "      print(f\"Epoch {epNum+1} complete! \\n Current loss: {test_loss:>8f}    Lowest loss: {lossChecker[0]:>8f} \\n Accuracy: {(100*correct):>8f}% \\n\")"
      ]
    },
    {
      "cell_type": "markdown",
      "source": [
        "\n",
        "\n",
        "# **--------Section 2: Newly Fitting model to data -------**\n",
        "(Only if `fitNew` is set to True)\n"
      ],
      "metadata": {
        "id": "3-eQvBhccKN3"
      }
    },
    {
      "cell_type": "markdown",
      "metadata": {
        "id": "mScO9OrS8M5c"
      },
      "source": [
        "## Implement training and test procedures\n"
      ]
    },
    {
      "cell_type": "code",
      "execution_count": 20,
      "metadata": {
        "id": "lz5_Cozo8M5c",
        "colab": {
          "base_uri": "https://localhost:8080/"
        },
        "outputId": "eebcee58-9269-4f0b-cf27-d01314e1dca7"
      },
      "outputs": [
        {
          "output_type": "stream",
          "name": "stdout",
          "text": [
            "Epoch 1\n",
            "-------------------------------\n",
            "loss: 153.474487  [   64/15050]\n",
            "loss: 507.719055  [ 1344/15050]\n",
            "loss: 250.547028  [ 2624/15050]\n",
            "loss: 286.961182  [ 3904/15050]\n",
            "loss: 20.946026  [ 5184/15050]\n",
            "loss: 70.681763  [ 6464/15050]\n",
            "loss: 84.445847  [ 7744/15050]\n",
            "loss: 39.569981  [ 9024/15050]\n",
            "loss: 24.031527  [10304/15050]\n",
            "loss: 19.184977  [11584/15050]\n",
            "loss: 27.129362  [12864/15050]\n",
            "loss: 21.408140  [14144/15050]\n",
            "Validation loss decreased (inf --> 21.019826).  Saving model ...\n",
            "Epoch 1 complete! \n",
            " Current loss: 21.019826    Lowest loss: 21.019826 \n",
            "\n",
            "Epoch 2\n",
            "-------------------------------\n",
            "loss: 8.518125  [   64/15050]\n",
            "loss: 16.944435  [ 1344/15050]\n",
            "loss: 14.916052  [ 2624/15050]\n",
            "loss: 28.924973  [ 3904/15050]\n",
            "loss: 8.718782  [ 5184/15050]\n",
            "loss: 19.866543  [ 6464/15050]\n",
            "loss: 11.228789  [ 7744/15050]\n",
            "loss: 3.478196  [ 9024/15050]\n",
            "loss: 6.998757  [10304/15050]\n",
            "loss: 5.670334  [11584/15050]\n",
            "loss: 17.747570  [12864/15050]\n",
            "loss: 8.637888  [14144/15050]\n",
            "Validation loss decreased (21.019826 --> 9.869703).  Saving model ...\n",
            "Epoch 2 complete! \n",
            " Current loss: 9.869703    Lowest loss: 9.869703 \n",
            "\n",
            "Epoch 3\n",
            "-------------------------------\n",
            "loss: 4.472224  [   64/15050]\n",
            "loss: 3.921133  [ 1344/15050]\n",
            "loss: 3.692499  [ 2624/15050]\n",
            "loss: 13.183585  [ 3904/15050]\n",
            "loss: 1.530394  [ 5184/15050]\n",
            "loss: 3.803405  [ 6464/15050]\n",
            "loss: 3.049732  [ 7744/15050]\n",
            "loss: 2.146891  [ 9024/15050]\n",
            "loss: 1.699848  [10304/15050]\n",
            "loss: 2.052313  [11584/15050]\n",
            "loss: 5.465079  [12864/15050]\n",
            "loss: 2.487793  [14144/15050]\n",
            "Validation loss decreased (9.869703 --> 4.468704).  Saving model ...\n",
            "Epoch 3 complete! \n",
            " Current loss: 4.468704    Lowest loss: 4.468704 \n",
            "\n",
            "Epoch 4\n",
            "-------------------------------\n",
            "loss: 2.289129  [   64/15050]\n",
            "loss: 1.825882  [ 1344/15050]\n",
            "loss: 2.601868  [ 2624/15050]\n",
            "loss: 8.307662  [ 3904/15050]\n",
            "loss: 0.585992  [ 5184/15050]\n",
            "loss: 2.309969  [ 6464/15050]\n",
            "loss: 2.937091  [ 7744/15050]\n",
            "loss: 1.652065  [ 9024/15050]\n",
            "loss: 2.694624  [10304/15050]\n",
            "loss: 1.493220  [11584/15050]\n",
            "loss: 3.834287  [12864/15050]\n",
            "loss: 1.671307  [14144/15050]\n",
            "Validation loss decreased (4.468704 --> 3.312701).  Saving model ...\n",
            "Epoch 4 complete! \n",
            " Current loss: 3.312701    Lowest loss: 3.312701 \n",
            "\n",
            "Epoch 5\n",
            "-------------------------------\n",
            "loss: 1.409616  [   64/15050]\n",
            "loss: 0.757000  [ 1344/15050]\n",
            "loss: 1.361195  [ 2624/15050]\n",
            "loss: 4.796687  [ 3904/15050]\n",
            "loss: 0.689446  [ 5184/15050]\n",
            "loss: 1.821523  [ 6464/15050]\n",
            "loss: 2.118127  [ 7744/15050]\n",
            "loss: 1.342000  [ 9024/15050]\n",
            "loss: 1.194411  [10304/15050]\n",
            "loss: 1.104334  [11584/15050]\n",
            "loss: 2.564381  [12864/15050]\n",
            "loss: 2.023302  [14144/15050]\n",
            "Validation loss decreased (3.312701 --> 2.484312).  Saving model ...\n",
            "Epoch 5 complete! \n",
            " Current loss: 2.484312    Lowest loss: 2.484312 \n",
            "\n",
            "Epoch 6\n",
            "-------------------------------\n",
            "loss: 1.089991  [   64/15050]\n",
            "loss: 1.043493  [ 1344/15050]\n",
            "loss: 1.355757  [ 2624/15050]\n",
            "loss: 3.401676  [ 3904/15050]\n",
            "loss: 0.636050  [ 5184/15050]\n",
            "loss: 1.509674  [ 6464/15050]\n",
            "loss: 1.861351  [ 7744/15050]\n",
            "loss: 1.350607  [ 9024/15050]\n",
            "loss: 1.011324  [10304/15050]\n",
            "loss: 0.764882  [11584/15050]\n",
            "loss: 2.466214  [12864/15050]\n",
            "loss: 1.398664  [14144/15050]\n",
            "EarlyStopping counter: 1 out of 10\n",
            "Epoch 6 complete! \n",
            " Current loss: 2.508257    Lowest loss: 2.484312 \n",
            "\n",
            "Epoch 7\n",
            "-------------------------------\n",
            "loss: 1.072801  [   64/15050]\n",
            "loss: 0.945245  [ 1344/15050]\n",
            "loss: 1.478085  [ 2624/15050]\n",
            "loss: 4.104413  [ 3904/15050]\n",
            "loss: 0.533595  [ 5184/15050]\n",
            "loss: 1.580834  [ 6464/15050]\n",
            "loss: 1.748280  [ 7744/15050]\n",
            "loss: 1.295593  [ 9024/15050]\n",
            "loss: 1.116672  [10304/15050]\n",
            "loss: 0.748054  [11584/15050]\n",
            "loss: 1.551793  [12864/15050]\n",
            "loss: 1.519591  [14144/15050]\n",
            "Validation loss decreased (2.484312 --> 2.380070).  Saving model ...\n",
            "Epoch 7 complete! \n",
            " Current loss: 2.380070    Lowest loss: 2.380070 \n",
            "\n",
            "Epoch 8\n",
            "-------------------------------\n",
            "loss: 0.955848  [   64/15050]\n",
            "loss: 0.875596  [ 1344/15050]\n",
            "loss: 1.320591  [ 2624/15050]\n",
            "loss: 1.539664  [ 3904/15050]\n",
            "loss: 0.534717  [ 5184/15050]\n",
            "loss: 1.464035  [ 6464/15050]\n",
            "loss: 1.699881  [ 7744/15050]\n",
            "loss: 1.393609  [ 9024/15050]\n",
            "loss: 0.987177  [10304/15050]\n",
            "loss: 1.120909  [11584/15050]\n",
            "loss: 1.607867  [12864/15050]\n",
            "loss: 1.272882  [14144/15050]\n",
            "Validation loss decreased (2.380070 --> 2.072985).  Saving model ...\n",
            "Epoch 8 complete! \n",
            " Current loss: 2.072985    Lowest loss: 2.072985 \n",
            "\n",
            "Epoch 9\n",
            "-------------------------------\n",
            "loss: 0.939319  [   64/15050]\n",
            "loss: 0.911888  [ 1344/15050]\n",
            "loss: 1.474538  [ 2624/15050]\n",
            "loss: 2.928976  [ 3904/15050]\n",
            "loss: 0.536132  [ 5184/15050]\n",
            "loss: 1.466123  [ 6464/15050]\n",
            "loss: 1.769698  [ 7744/15050]\n",
            "loss: 1.351182  [ 9024/15050]\n",
            "loss: 0.965762  [10304/15050]\n",
            "loss: 0.824848  [11584/15050]\n",
            "loss: 1.381079  [12864/15050]\n",
            "loss: 1.340386  [14144/15050]\n",
            "Validation loss decreased (2.072985 --> 1.939106).  Saving model ...\n",
            "Epoch 9 complete! \n",
            " Current loss: 1.939106    Lowest loss: 1.939106 \n",
            "\n",
            "Epoch 10\n",
            "-------------------------------\n",
            "loss: 0.923281  [   64/15050]\n",
            "loss: 0.891234  [ 1344/15050]\n",
            "loss: 1.363131  [ 2624/15050]\n",
            "loss: 1.927278  [ 3904/15050]\n",
            "loss: 0.524027  [ 5184/15050]\n",
            "loss: 1.463476  [ 6464/15050]\n",
            "loss: 1.777497  [ 7744/15050]\n",
            "loss: 1.283397  [ 9024/15050]\n",
            "loss: 0.862754  [10304/15050]\n",
            "loss: 0.842930  [11584/15050]\n",
            "loss: 1.330602  [12864/15050]\n",
            "loss: 1.253624  [14144/15050]\n",
            "Validation loss decreased (1.939106 --> 1.826147).  Saving model ...\n",
            "Epoch 10 complete! \n",
            " Current loss: 1.826147    Lowest loss: 1.826147 \n",
            "\n",
            "Epoch 11\n",
            "-------------------------------\n",
            "loss: 0.883805  [   64/15050]\n",
            "loss: 0.993621  [ 1344/15050]\n",
            "loss: 1.317604  [ 2624/15050]\n",
            "loss: 2.259213  [ 3904/15050]\n",
            "loss: 0.502454  [ 5184/15050]\n",
            "loss: 1.431731  [ 6464/15050]\n",
            "loss: 1.720108  [ 7744/15050]\n",
            "loss: 1.261560  [ 9024/15050]\n",
            "loss: 0.818246  [10304/15050]\n",
            "loss: 0.756660  [11584/15050]\n",
            "loss: 1.260244  [12864/15050]\n",
            "loss: 1.264910  [14144/15050]\n",
            "EarlyStopping counter: 1 out of 10\n",
            "Epoch 11 complete! \n",
            " Current loss: 1.850294    Lowest loss: 1.826147 \n",
            "\n",
            "Epoch 12\n",
            "-------------------------------\n",
            "loss: 0.906326  [   64/15050]\n",
            "loss: 0.946592  [ 1344/15050]\n",
            "loss: 1.329608  [ 2624/15050]\n",
            "loss: 1.546023  [ 3904/15050]\n",
            "loss: 0.491975  [ 5184/15050]\n",
            "loss: 1.429519  [ 6464/15050]\n",
            "loss: 1.726245  [ 7744/15050]\n",
            "loss: 1.246153  [ 9024/15050]\n",
            "loss: 0.837121  [10304/15050]\n",
            "loss: 0.891269  [11584/15050]\n",
            "loss: 1.298745  [12864/15050]\n",
            "loss: 1.265285  [14144/15050]\n",
            "Validation loss decreased (1.826147 --> 1.665748).  Saving model ...\n",
            "Epoch 12 complete! \n",
            " Current loss: 1.665748    Lowest loss: 1.665748 \n",
            "\n",
            "Epoch 13\n",
            "-------------------------------\n",
            "loss: 0.877978  [   64/15050]\n",
            "loss: 0.933798  [ 1344/15050]\n",
            "loss: 1.298721  [ 2624/15050]\n",
            "loss: 1.585625  [ 3904/15050]\n",
            "loss: 0.487196  [ 5184/15050]\n",
            "loss: 1.442471  [ 6464/15050]\n",
            "loss: 1.743560  [ 7744/15050]\n",
            "loss: 1.245511  [ 9024/15050]\n",
            "loss: 0.810492  [10304/15050]\n",
            "loss: 0.741330  [11584/15050]\n",
            "loss: 1.200179  [12864/15050]\n",
            "loss: 1.273201  [14144/15050]\n",
            "EarlyStopping counter: 1 out of 10\n",
            "Epoch 13 complete! \n",
            " Current loss: 1.793196    Lowest loss: 1.665748 \n",
            "\n",
            "Epoch 14\n",
            "-------------------------------\n",
            "loss: 0.901474  [   64/15050]\n",
            "loss: 0.923951  [ 1344/15050]\n",
            "loss: 1.282343  [ 2624/15050]\n",
            "loss: 1.466020  [ 3904/15050]\n",
            "loss: 0.487720  [ 5184/15050]\n",
            "loss: 1.461630  [ 6464/15050]\n",
            "loss: 1.743934  [ 7744/15050]\n",
            "loss: 1.232531  [ 9024/15050]\n",
            "loss: 0.805669  [10304/15050]\n",
            "loss: 0.894423  [11584/15050]\n",
            "loss: 1.239648  [12864/15050]\n",
            "loss: 1.259638  [14144/15050]\n",
            "EarlyStopping counter: 2 out of 10\n",
            "Epoch 14 complete! \n",
            " Current loss: 1.690282    Lowest loss: 1.665748 \n",
            "\n",
            "Epoch 15\n",
            "-------------------------------\n",
            "loss: 0.871407  [   64/15050]\n",
            "loss: 0.908037  [ 1344/15050]\n",
            "loss: 1.298814  [ 2624/15050]\n",
            "loss: 1.422895  [ 3904/15050]\n",
            "loss: 0.489194  [ 5184/15050]\n",
            "loss: 1.474965  [ 6464/15050]\n",
            "loss: 1.725406  [ 7744/15050]\n",
            "loss: 1.239863  [ 9024/15050]\n",
            "loss: 0.764914  [10304/15050]\n",
            "loss: 0.766222  [11584/15050]\n",
            "loss: 1.235382  [12864/15050]\n",
            "loss: 1.275958  [14144/15050]\n",
            "EarlyStopping counter: 3 out of 10\n",
            "Epoch 15 complete! \n",
            " Current loss: 1.702013    Lowest loss: 1.665748 \n",
            "\n",
            "Epoch 16\n",
            "-------------------------------\n",
            "loss: 0.899937  [   64/15050]\n",
            "loss: 0.918726  [ 1344/15050]\n",
            "loss: 1.283658  [ 2624/15050]\n",
            "loss: 1.287470  [ 3904/15050]\n",
            "loss: 0.488363  [ 5184/15050]\n",
            "loss: 1.495476  [ 6464/15050]\n",
            "loss: 1.729402  [ 7744/15050]\n",
            "loss: 1.247978  [ 9024/15050]\n",
            "loss: 0.744526  [10304/15050]\n",
            "loss: 0.845199  [11584/15050]\n",
            "loss: 1.244619  [12864/15050]\n",
            "loss: 1.266579  [14144/15050]\n",
            "Validation loss decreased (1.665748 --> 1.634645).  Saving model ...\n",
            "Epoch 16 complete! \n",
            " Current loss: 1.634645    Lowest loss: 1.634645 \n",
            "\n",
            "Epoch 17\n",
            "-------------------------------\n",
            "loss: 0.844677  [   64/15050]\n",
            "loss: 0.910370  [ 1344/15050]\n",
            "loss: 1.290203  [ 2624/15050]\n",
            "loss: 1.394090  [ 3904/15050]\n",
            "loss: 0.489740  [ 5184/15050]\n",
            "loss: 1.459274  [ 6464/15050]\n",
            "loss: 1.714840  [ 7744/15050]\n",
            "loss: 1.240512  [ 9024/15050]\n",
            "loss: 0.750682  [10304/15050]\n",
            "loss: 0.804112  [11584/15050]\n",
            "loss: 1.195277  [12864/15050]\n",
            "loss: 1.250214  [14144/15050]\n",
            "EarlyStopping counter: 1 out of 10\n",
            "Epoch 17 complete! \n",
            " Current loss: 1.654281    Lowest loss: 1.634645 \n",
            "\n",
            "Epoch 18\n",
            "-------------------------------\n",
            "loss: 0.864092  [   64/15050]\n",
            "loss: 0.911288  [ 1344/15050]\n",
            "loss: 1.270312  [ 2624/15050]\n",
            "loss: 1.361783  [ 3904/15050]\n",
            "loss: 0.480553  [ 5184/15050]\n",
            "loss: 1.500226  [ 6464/15050]\n",
            "loss: 1.729257  [ 7744/15050]\n",
            "loss: 1.239928  [ 9024/15050]\n",
            "loss: 0.741362  [10304/15050]\n",
            "loss: 0.836497  [11584/15050]\n",
            "loss: 1.278473  [12864/15050]\n",
            "loss: 1.284940  [14144/15050]\n",
            "Validation loss decreased (1.634645 --> 1.605109).  Saving model ...\n",
            "Epoch 18 complete! \n",
            " Current loss: 1.605109    Lowest loss: 1.605109 \n",
            "\n",
            "Epoch 19\n",
            "-------------------------------\n",
            "loss: 0.846934  [   64/15050]\n",
            "loss: 0.883797  [ 1344/15050]\n",
            "loss: 1.287102  [ 2624/15050]\n",
            "loss: 1.449581  [ 3904/15050]\n",
            "loss: 0.471467  [ 5184/15050]\n",
            "loss: 1.469291  [ 6464/15050]\n",
            "loss: 1.718248  [ 7744/15050]\n",
            "loss: 1.239722  [ 9024/15050]\n",
            "loss: 0.751780  [10304/15050]\n",
            "loss: 0.792331  [11584/15050]\n",
            "loss: 1.246054  [12864/15050]\n",
            "loss: 1.305757  [14144/15050]\n",
            "EarlyStopping counter: 1 out of 10\n",
            "Epoch 19 complete! \n",
            " Current loss: 1.640380    Lowest loss: 1.605109 \n",
            "\n",
            "Epoch 20\n",
            "-------------------------------\n",
            "loss: 0.866174  [   64/15050]\n",
            "loss: 0.893843  [ 1344/15050]\n",
            "loss: 1.279940  [ 2624/15050]\n",
            "loss: 1.222807  [ 3904/15050]\n",
            "loss: 0.476969  [ 5184/15050]\n",
            "loss: 1.472600  [ 6464/15050]\n",
            "loss: 1.710527  [ 7744/15050]\n",
            "loss: 1.235164  [ 9024/15050]\n",
            "loss: 0.709785  [10304/15050]\n",
            "loss: 0.803657  [11584/15050]\n",
            "loss: 1.209513  [12864/15050]\n",
            "loss: 1.262431  [14144/15050]\n",
            "EarlyStopping counter: 2 out of 10\n",
            "Epoch 20 complete! \n",
            " Current loss: 1.609216    Lowest loss: 1.605109 \n",
            "\n",
            "Epoch 21\n",
            "-------------------------------\n",
            "loss: 0.853985  [   64/15050]\n",
            "loss: 0.892625  [ 1344/15050]\n",
            "loss: 1.279393  [ 2624/15050]\n",
            "loss: 1.557456  [ 3904/15050]\n",
            "loss: 0.467280  [ 5184/15050]\n",
            "loss: 1.488268  [ 6464/15050]\n",
            "loss: 1.724977  [ 7744/15050]\n",
            "loss: 1.240572  [ 9024/15050]\n",
            "loss: 0.708265  [10304/15050]\n",
            "loss: 0.791874  [11584/15050]\n",
            "loss: 1.199503  [12864/15050]\n",
            "loss: 1.298704  [14144/15050]\n",
            "EarlyStopping counter: 3 out of 10\n",
            "Epoch 21 complete! \n",
            " Current loss: 1.628038    Lowest loss: 1.605109 \n",
            "\n",
            "Epoch 22\n",
            "-------------------------------\n",
            "loss: 0.849878  [   64/15050]\n",
            "loss: 0.889389  [ 1344/15050]\n",
            "loss: 1.289713  [ 2624/15050]\n",
            "loss: 1.206686  [ 3904/15050]\n",
            "loss: 0.476586  [ 5184/15050]\n",
            "loss: 1.457233  [ 6464/15050]\n",
            "loss: 1.722993  [ 7744/15050]\n",
            "loss: 1.235169  [ 9024/15050]\n",
            "loss: 0.714350  [10304/15050]\n",
            "loss: 0.785409  [11584/15050]\n",
            "loss: 1.170333  [12864/15050]\n",
            "loss: 1.266373  [14144/15050]\n",
            "EarlyStopping counter: 4 out of 10\n",
            "Epoch 22 complete! \n",
            " Current loss: 1.614359    Lowest loss: 1.605109 \n",
            "\n",
            "Epoch 23\n",
            "-------------------------------\n",
            "loss: 0.809072  [   64/15050]\n",
            "loss: 0.884706  [ 1344/15050]\n",
            "loss: 1.281257  [ 2624/15050]\n",
            "loss: 1.481654  [ 3904/15050]\n",
            "loss: 0.471050  [ 5184/15050]\n",
            "loss: 1.472463  [ 6464/15050]\n",
            "loss: 1.739342  [ 7744/15050]\n",
            "loss: 1.219245  [ 9024/15050]\n",
            "loss: 0.709287  [10304/15050]\n",
            "loss: 0.780335  [11584/15050]\n",
            "loss: 1.159868  [12864/15050]\n",
            "loss: 1.288691  [14144/15050]\n",
            "Validation loss decreased (1.605109 --> 1.600952).  Saving model ...\n",
            "Epoch 23 complete! \n",
            " Current loss: 1.600952    Lowest loss: 1.600952 \n",
            "\n",
            "Epoch 24\n",
            "-------------------------------\n",
            "loss: 0.844951  [   64/15050]\n",
            "loss: 0.876764  [ 1344/15050]\n",
            "loss: 1.273420  [ 2624/15050]\n",
            "loss: 1.141294  [ 3904/15050]\n",
            "loss: 0.481256  [ 5184/15050]\n",
            "loss: 1.465796  [ 6464/15050]\n",
            "loss: 1.747671  [ 7744/15050]\n",
            "loss: 1.215936  [ 9024/15050]\n",
            "loss: 0.709564  [10304/15050]\n",
            "loss: 0.775810  [11584/15050]\n",
            "loss: 1.200445  [12864/15050]\n",
            "loss: 1.287183  [14144/15050]\n",
            "Validation loss decreased (1.600952 --> 1.589157).  Saving model ...\n",
            "Epoch 24 complete! \n",
            " Current loss: 1.589157    Lowest loss: 1.589157 \n",
            "\n",
            "Epoch 25\n",
            "-------------------------------\n",
            "loss: 0.824038  [   64/15050]\n",
            "loss: 0.857843  [ 1344/15050]\n",
            "loss: 1.257741  [ 2624/15050]\n",
            "loss: 1.397503  [ 3904/15050]\n",
            "loss: 0.467094  [ 5184/15050]\n",
            "loss: 1.473709  [ 6464/15050]\n",
            "loss: 1.721531  [ 7744/15050]\n",
            "loss: 1.231522  [ 9024/15050]\n",
            "loss: 0.704676  [10304/15050]\n",
            "loss: 0.794918  [11584/15050]\n",
            "loss: 1.133211  [12864/15050]\n",
            "loss: 1.278939  [14144/15050]\n",
            "EarlyStopping counter: 1 out of 10\n",
            "Epoch 25 complete! \n",
            " Current loss: 1.589428    Lowest loss: 1.589157 \n",
            "\n",
            "Epoch 26\n",
            "-------------------------------\n",
            "loss: 0.803374  [   64/15050]\n",
            "loss: 0.859099  [ 1344/15050]\n",
            "loss: 1.264903  [ 2624/15050]\n",
            "loss: 1.136853  [ 3904/15050]\n",
            "loss: 0.465742  [ 5184/15050]\n",
            "loss: 1.462527  [ 6464/15050]\n",
            "loss: 1.742733  [ 7744/15050]\n",
            "loss: 1.214701  [ 9024/15050]\n",
            "loss: 0.692195  [10304/15050]\n",
            "loss: 0.763103  [11584/15050]\n",
            "loss: 1.196439  [12864/15050]\n",
            "loss: 1.298058  [14144/15050]\n",
            "EarlyStopping counter: 2 out of 10\n",
            "Epoch 26 complete! \n",
            " Current loss: 1.591212    Lowest loss: 1.589157 \n",
            "\n",
            "Epoch 27\n",
            "-------------------------------\n",
            "loss: 0.794347  [   64/15050]\n",
            "loss: 0.862777  [ 1344/15050]\n",
            "loss: 1.258288  [ 2624/15050]\n",
            "loss: 1.407948  [ 3904/15050]\n",
            "loss: 0.465059  [ 5184/15050]\n",
            "loss: 1.449846  [ 6464/15050]\n",
            "loss: 1.724189  [ 7744/15050]\n",
            "loss: 1.201940  [ 9024/15050]\n",
            "loss: 0.698639  [10304/15050]\n",
            "loss: 0.789277  [11584/15050]\n",
            "loss: 1.169508  [12864/15050]\n",
            "loss: 1.298362  [14144/15050]\n",
            "EarlyStopping counter: 3 out of 10\n",
            "Epoch 27 complete! \n",
            " Current loss: 1.596220    Lowest loss: 1.589157 \n",
            "\n",
            "Epoch 28\n",
            "-------------------------------\n",
            "loss: 0.812724  [   64/15050]\n",
            "loss: 0.852777  [ 1344/15050]\n",
            "loss: 1.268251  [ 2624/15050]\n",
            "loss: 1.173463  [ 3904/15050]\n",
            "loss: 0.472146  [ 5184/15050]\n",
            "loss: 1.442812  [ 6464/15050]\n",
            "loss: 1.734068  [ 7744/15050]\n",
            "loss: 1.197591  [ 9024/15050]\n",
            "loss: 0.685004  [10304/15050]\n",
            "loss: 0.774167  [11584/15050]\n",
            "loss: 1.160946  [12864/15050]\n",
            "loss: 1.292492  [14144/15050]\n",
            "Validation loss decreased (1.589157 --> 1.585663).  Saving model ...\n",
            "Epoch 28 complete! \n",
            " Current loss: 1.585663    Lowest loss: 1.585663 \n",
            "\n",
            "Epoch 29\n",
            "-------------------------------\n",
            "loss: 0.795351  [   64/15050]\n",
            "loss: 0.844159  [ 1344/15050]\n",
            "loss: 1.279372  [ 2624/15050]\n",
            "loss: 1.184668  [ 3904/15050]\n",
            "loss: 0.459314  [ 5184/15050]\n",
            "loss: 1.467161  [ 6464/15050]\n",
            "loss: 1.741747  [ 7744/15050]\n",
            "loss: 1.190488  [ 9024/15050]\n",
            "loss: 0.687865  [10304/15050]\n",
            "loss: 0.765134  [11584/15050]\n",
            "loss: 1.169204  [12864/15050]\n",
            "loss: 1.302680  [14144/15050]\n",
            "Validation loss decreased (1.585663 --> 1.584556).  Saving model ...\n",
            "Epoch 29 complete! \n",
            " Current loss: 1.584556    Lowest loss: 1.584556 \n",
            "\n",
            "Epoch 30\n",
            "-------------------------------\n",
            "loss: 0.800010  [   64/15050]\n",
            "loss: 0.839692  [ 1344/15050]\n",
            "loss: 1.251936  [ 2624/15050]\n",
            "loss: 1.227641  [ 3904/15050]\n",
            "loss: 0.453676  [ 5184/15050]\n",
            "loss: 1.466004  [ 6464/15050]\n",
            "loss: 1.726432  [ 7744/15050]\n",
            "loss: 1.178792  [ 9024/15050]\n",
            "loss: 0.685895  [10304/15050]\n",
            "loss: 0.750871  [11584/15050]\n",
            "loss: 1.160152  [12864/15050]\n",
            "loss: 1.291297  [14144/15050]\n",
            "EarlyStopping counter: 1 out of 10\n",
            "Epoch 30 complete! \n",
            " Current loss: 1.588686    Lowest loss: 1.584556 \n",
            "\n",
            "Epoch 31\n",
            "-------------------------------\n",
            "loss: 0.797277  [   64/15050]\n",
            "loss: 0.827108  [ 1344/15050]\n",
            "loss: 1.255259  [ 2624/15050]\n",
            "loss: 1.200857  [ 3904/15050]\n",
            "loss: 0.444738  [ 5184/15050]\n",
            "loss: 1.467258  [ 6464/15050]\n",
            "loss: 1.719836  [ 7744/15050]\n",
            "loss: 1.168605  [ 9024/15050]\n",
            "loss: 0.675478  [10304/15050]\n",
            "loss: 0.783837  [11584/15050]\n",
            "loss: 1.153646  [12864/15050]\n",
            "loss: 1.272054  [14144/15050]\n",
            "Validation loss decreased (1.584556 --> 1.564700).  Saving model ...\n",
            "Epoch 31 complete! \n",
            " Current loss: 1.564700    Lowest loss: 1.564700 \n",
            "\n",
            "Epoch 32\n",
            "-------------------------------\n",
            "loss: 0.773788  [   64/15050]\n",
            "loss: 0.834759  [ 1344/15050]\n",
            "loss: 1.243852  [ 2624/15050]\n",
            "loss: 1.185751  [ 3904/15050]\n",
            "loss: 0.450018  [ 5184/15050]\n",
            "loss: 1.461040  [ 6464/15050]\n",
            "loss: 1.709530  [ 7744/15050]\n",
            "loss: 1.168300  [ 9024/15050]\n",
            "loss: 0.695728  [10304/15050]\n",
            "loss: 0.758768  [11584/15050]\n",
            "loss: 1.147581  [12864/15050]\n",
            "loss: 1.293606  [14144/15050]\n",
            "EarlyStopping counter: 1 out of 10\n",
            "Epoch 32 complete! \n",
            " Current loss: 1.575814    Lowest loss: 1.564700 \n",
            "\n",
            "Epoch 33\n",
            "-------------------------------\n",
            "loss: 0.772496  [   64/15050]\n",
            "loss: 0.826275  [ 1344/15050]\n",
            "loss: 1.250014  [ 2624/15050]\n",
            "loss: 1.106399  [ 3904/15050]\n",
            "loss: 0.449699  [ 5184/15050]\n",
            "loss: 1.436430  [ 6464/15050]\n",
            "loss: 1.734221  [ 7744/15050]\n",
            "loss: 1.161216  [ 9024/15050]\n",
            "loss: 0.681291  [10304/15050]\n",
            "loss: 0.769185  [11584/15050]\n",
            "loss: 1.160679  [12864/15050]\n",
            "loss: 1.284042  [14144/15050]\n",
            "EarlyStopping counter: 2 out of 10\n",
            "Epoch 33 complete! \n",
            " Current loss: 1.565249    Lowest loss: 1.564700 \n",
            "\n",
            "Epoch 34\n",
            "-------------------------------\n",
            "loss: 0.771618  [   64/15050]\n",
            "loss: 0.829306  [ 1344/15050]\n",
            "loss: 1.228879  [ 2624/15050]\n",
            "loss: 1.156785  [ 3904/15050]\n",
            "loss: 0.439653  [ 5184/15050]\n",
            "loss: 1.445213  [ 6464/15050]\n",
            "loss: 1.719366  [ 7744/15050]\n",
            "loss: 1.161828  [ 9024/15050]\n",
            "loss: 0.652618  [10304/15050]\n",
            "loss: 0.771067  [11584/15050]\n",
            "loss: 1.154147  [12864/15050]\n",
            "loss: 1.282650  [14144/15050]\n",
            "EarlyStopping counter: 3 out of 10\n",
            "Epoch 34 complete! \n",
            " Current loss: 1.574916    Lowest loss: 1.564700 \n",
            "\n",
            "Epoch 35\n",
            "-------------------------------\n",
            "loss: 0.780131  [   64/15050]\n",
            "loss: 0.815055  [ 1344/15050]\n",
            "loss: 1.223810  [ 2624/15050]\n",
            "loss: 1.073263  [ 3904/15050]\n",
            "loss: 0.459697  [ 5184/15050]\n",
            "loss: 1.440728  [ 6464/15050]\n",
            "loss: 1.690377  [ 7744/15050]\n",
            "loss: 1.137421  [ 9024/15050]\n",
            "loss: 0.668658  [10304/15050]\n",
            "loss: 0.776394  [11584/15050]\n",
            "loss: 1.147257  [12864/15050]\n",
            "loss: 1.279203  [14144/15050]\n",
            "EarlyStopping counter: 4 out of 10\n",
            "Epoch 35 complete! \n",
            " Current loss: 1.568219    Lowest loss: 1.564700 \n",
            "\n",
            "Epoch 36\n",
            "-------------------------------\n",
            "loss: 0.785744  [   64/15050]\n",
            "loss: 0.819924  [ 1344/15050]\n",
            "loss: 1.217430  [ 2624/15050]\n",
            "loss: 1.119730  [ 3904/15050]\n",
            "loss: 0.448474  [ 5184/15050]\n",
            "loss: 1.440825  [ 6464/15050]\n",
            "loss: 1.693508  [ 7744/15050]\n",
            "loss: 1.154082  [ 9024/15050]\n",
            "loss: 0.665455  [10304/15050]\n",
            "loss: 0.762030  [11584/15050]\n",
            "loss: 1.141383  [12864/15050]\n",
            "loss: 1.266335  [14144/15050]\n",
            "EarlyStopping counter: 5 out of 10\n",
            "Epoch 36 complete! \n",
            " Current loss: 1.570220    Lowest loss: 1.564700 \n",
            "\n",
            "Epoch 37\n",
            "-------------------------------\n",
            "loss: 0.743999  [   64/15050]\n",
            "loss: 0.815893  [ 1344/15050]\n",
            "loss: 1.212469  [ 2624/15050]\n",
            "loss: 1.117576  [ 3904/15050]\n",
            "loss: 0.442168  [ 5184/15050]\n",
            "loss: 1.457413  [ 6464/15050]\n",
            "loss: 1.675771  [ 7744/15050]\n",
            "loss: 1.159113  [ 9024/15050]\n",
            "loss: 0.662026  [10304/15050]\n",
            "loss: 0.750261  [11584/15050]\n",
            "loss: 1.113191  [12864/15050]\n",
            "loss: 1.258570  [14144/15050]\n",
            "EarlyStopping counter: 6 out of 10\n",
            "Epoch 37 complete! \n",
            " Current loss: 1.573103    Lowest loss: 1.564700 \n",
            "\n",
            "Epoch 38\n",
            "-------------------------------\n",
            "loss: 0.753129  [   64/15050]\n",
            "loss: 0.824655  [ 1344/15050]\n",
            "loss: 1.199034  [ 2624/15050]\n",
            "loss: 1.007465  [ 3904/15050]\n",
            "loss: 0.445154  [ 5184/15050]\n",
            "loss: 1.433783  [ 6464/15050]\n",
            "loss: 1.699306  [ 7744/15050]\n",
            "loss: 1.159747  [ 9024/15050]\n",
            "loss: 0.669041  [10304/15050]\n",
            "loss: 0.745561  [11584/15050]\n",
            "loss: 1.122283  [12864/15050]\n",
            "loss: 1.247938  [14144/15050]\n",
            "EarlyStopping counter: 7 out of 10\n",
            "Epoch 38 complete! \n",
            " Current loss: 1.577133    Lowest loss: 1.564700 \n",
            "\n",
            "Epoch 39\n",
            "-------------------------------\n",
            "loss: 0.756955  [   64/15050]\n",
            "loss: 0.814705  [ 1344/15050]\n",
            "loss: 1.215298  [ 2624/15050]\n",
            "loss: 1.049343  [ 3904/15050]\n",
            "loss: 0.442323  [ 5184/15050]\n",
            "loss: 1.422779  [ 6464/15050]\n",
            "loss: 1.690958  [ 7744/15050]\n",
            "loss: 1.146651  [ 9024/15050]\n",
            "loss: 0.663781  [10304/15050]\n",
            "loss: 0.763330  [11584/15050]\n",
            "loss: 1.121802  [12864/15050]\n",
            "loss: 1.240392  [14144/15050]\n",
            "EarlyStopping counter: 8 out of 10\n",
            "Epoch 39 complete! \n",
            " Current loss: 1.573293    Lowest loss: 1.564700 \n",
            "\n",
            "Epoch 40\n",
            "-------------------------------\n",
            "loss: 0.737834  [   64/15050]\n",
            "loss: 0.818647  [ 1344/15050]\n",
            "loss: 1.209906  [ 2624/15050]\n",
            "loss: 1.031837  [ 3904/15050]\n",
            "loss: 0.438564  [ 5184/15050]\n",
            "loss: 1.425884  [ 6464/15050]\n",
            "loss: 1.701621  [ 7744/15050]\n",
            "loss: 1.150109  [ 9024/15050]\n",
            "loss: 0.665184  [10304/15050]\n",
            "loss: 0.775154  [11584/15050]\n",
            "loss: 1.143304  [12864/15050]\n",
            "loss: 1.262583  [14144/15050]\n",
            "EarlyStopping counter: 9 out of 10\n",
            "Epoch 40 complete! \n",
            " Current loss: 1.576171    Lowest loss: 1.564700 \n",
            "\n",
            "Epoch 41\n",
            "-------------------------------\n",
            "loss: 0.740780  [   64/15050]\n",
            "loss: 0.820348  [ 1344/15050]\n",
            "loss: 1.215714  [ 2624/15050]\n",
            "loss: 0.997699  [ 3904/15050]\n",
            "loss: 0.439567  [ 5184/15050]\n",
            "loss: 1.419461  [ 6464/15050]\n",
            "loss: 1.687610  [ 7744/15050]\n",
            "loss: 1.161117  [ 9024/15050]\n",
            "loss: 0.636053  [10304/15050]\n",
            "loss: 0.750024  [11584/15050]\n",
            "loss: 1.103413  [12864/15050]\n",
            "loss: 1.259404  [14144/15050]\n",
            "EarlyStopping counter: 10 out of 10\n",
            "Epoch 41 complete! \n",
            " Current loss: 1.579695    Lowest loss: 1.564700 \n",
            "\n",
            "Early stopping @ epoch 41\n",
            "Done!\n"
          ]
        }
      ],
      "source": [
        "if fitNew == True:\n",
        "  #for storing CNN validation accuracy in each epoch\n",
        "  performanceSummary = pd.DataFrame(index=range(len(test_dataloader.dataset)), columns = range(epochs))\n",
        "  predictionsSummary = pd.DataFrame(index=range(len(test_dataloader.dataset)), columns = range(epochs))\n",
        "  logitsSummary = pd.DataFrame(index=range(len(test_dataloader.dataset)), columns = range(6))\n",
        "  #early stopping object\n",
        "  early_stopping = EarlyStopping(patience=10, verbose=True, path = \"checkpoint.pth\")\n",
        "\n",
        "  #for storing minimum loss value and epoch where it occurred\n",
        "  lossCheck = [np.inf, 0]\n",
        "\n",
        "  for t in range(epochs):\n",
        "      print(f\"Epoch {t+1}\\n-------------------------------\")\n",
        "\n",
        "      #training\n",
        "      train_model(train_dataloader, model, loss_fn, optimizer, scheduler)\n",
        "\n",
        "      #validation\n",
        "      test_model(test_dataloader, model, loss_fn, performanceSummary, predictionsSummary, logitsSummary,\n",
        "               epNum = t, earlyStop = early_stopping, lossChecker=lossCheck, mode = \"loss\")\n",
        "\n",
        "      #check early stopping criteria\n",
        "      if early_stopping.early_stop:\n",
        "        print(f\"Early stopping @ epoch {t+1}\")\n",
        "        break\n",
        "\n",
        "  print(\"Done!\")\n",
        "else:\n",
        "  print(\"Toggle to newly fit models has been turned off\")"
      ]
    },
    {
      "cell_type": "markdown",
      "source": [
        "## Quick summary of model results"
      ],
      "metadata": {
        "id": "GMhTBfUHjs1M"
      }
    },
    {
      "cell_type": "code",
      "source": [
        "if fitNew == True:\n",
        "  bestEpoch = lossCheck[1]\n",
        "  performanceSummary = performanceSummary.iloc[:,0:t+1] #in case early stopping happens\n",
        "  epAcc = (100*(performanceSummary.sum() / len(test_dataloader.dataset)))\n",
        "  bestPerformance = epAcc[bestEpoch]\n",
        "\n",
        "  #plot accuracy across epochs and label accuracy from interation with lowest validation loss\n",
        "  fig, ax = plt.subplots()\n",
        "  ax.plot(range(t+1), epAcc)\n",
        "  plt.xlim(0, t+1)\n",
        "  plt.ylim(0, 100)\n",
        "  ax.axvline(x = bestEpoch, linestyle = \"dotted\", color = \"green\")\n",
        "  ax.axhline(y = (100/6), linestyle = \"dotted\", color = \"grey\")\n",
        "  ax.text(x = 1, y = 80, s = f\"Green line depicts \\n accuracy from epoch {bestEpoch} (starting \\n at epoch 0) with the lowest loss -- \\n we use this in analysis!\")\n",
        "  ax.text(x=0, y = (100/6) + 2, s = \"Chance performance\", color = \"grey\")\n",
        "  plt.xlabel(\"Epoch\")\n",
        "  plt.ylabel(\"Accuracy (%)\")\n",
        "  plt.title(\"Accuracy across epochs\")\n",
        "\n",
        "  #view graph and accuracy values across epochs\n",
        "  fig.show()\n",
        "  print(epAcc)\n",
        "\n",
        "  #Download plot\n",
        "  fig.savefig(\"acrossEpochPlot_\" + analysisString + \"_Decay.png\")\n",
        "  files.download(\"acrossEpochPlot_\" + analysisString + \"_Decay.png\")\n",
        "else:\n",
        "  print(\"Toggle to newly fit models has been turned off\")"
      ],
      "metadata": {
        "id": "9TFvZMZk1p5o",
        "colab": {
          "base_uri": "https://localhost:8080/",
          "height": 1000
        },
        "outputId": "8224bc9d-d982-4c6c-e763-497cd030ecb1"
      },
      "execution_count": 21,
      "outputs": [
        {
          "output_type": "stream",
          "name": "stdout",
          "text": [
            "0     39.755514\n",
            "1     41.256976\n",
            "2     49.136327\n",
            "3     50.664364\n",
            "4     53.707149\n",
            "5     47.754451\n",
            "6     52.750465\n",
            "7      52.87005\n",
            "8     52.551156\n",
            "9     52.803614\n",
            "10    54.823279\n",
            "11    55.434494\n",
            "12    54.929577\n",
            "13    55.846399\n",
            "14    55.474356\n",
            "15    56.258305\n",
            "16    56.032421\n",
            "17    57.773053\n",
            "18     57.25485\n",
            "19    57.879352\n",
            "20    57.759766\n",
            "21    57.480733\n",
            "22    57.866064\n",
            "23    58.118522\n",
            "24    58.065373\n",
            "25    57.852777\n",
            "26    58.357693\n",
            "27    58.450704\n",
            "28    57.959075\n",
            "29     58.13181\n",
            "30    58.995482\n",
            "31    58.942333\n",
            "32    59.354239\n",
            "33     59.00877\n",
            "34    59.221366\n",
            "35    59.234653\n",
            "36    59.553548\n",
            "37    59.526973\n",
            "38    59.819293\n",
            "39    59.965453\n",
            "40     59.97874\n",
            "dtype: object\n"
          ]
        },
        {
          "output_type": "display_data",
          "data": {
            "text/plain": [
              "<IPython.core.display.Javascript object>"
            ],
            "application/javascript": [
              "\n",
              "    async function download(id, filename, size) {\n",
              "      if (!google.colab.kernel.accessAllowed) {\n",
              "        return;\n",
              "      }\n",
              "      const div = document.createElement('div');\n",
              "      const label = document.createElement('label');\n",
              "      label.textContent = `Downloading \"${filename}\": `;\n",
              "      div.appendChild(label);\n",
              "      const progress = document.createElement('progress');\n",
              "      progress.max = size;\n",
              "      div.appendChild(progress);\n",
              "      document.body.appendChild(div);\n",
              "\n",
              "      const buffers = [];\n",
              "      let downloaded = 0;\n",
              "\n",
              "      const channel = await google.colab.kernel.comms.open(id);\n",
              "      // Send a message to notify the kernel that we're ready.\n",
              "      channel.send({})\n",
              "\n",
              "      for await (const message of channel.messages) {\n",
              "        // Send a message to notify the kernel that we're ready.\n",
              "        channel.send({})\n",
              "        if (message.buffers) {\n",
              "          for (const buffer of message.buffers) {\n",
              "            buffers.push(buffer);\n",
              "            downloaded += buffer.byteLength;\n",
              "            progress.value = downloaded;\n",
              "          }\n",
              "        }\n",
              "      }\n",
              "      const blob = new Blob(buffers, {type: 'application/binary'});\n",
              "      const a = document.createElement('a');\n",
              "      a.href = window.URL.createObjectURL(blob);\n",
              "      a.download = filename;\n",
              "      div.appendChild(a);\n",
              "      a.click();\n",
              "      div.remove();\n",
              "    }\n",
              "  "
            ]
          },
          "metadata": {}
        },
        {
          "output_type": "display_data",
          "data": {
            "text/plain": [
              "<IPython.core.display.Javascript object>"
            ],
            "application/javascript": [
              "download(\"download_19f31c2b-e4be-46ed-ab57-713b6af3b572\", \"acrossEpochPlot_GrubbLiTargLoc_Decay.png\", 39310)"
            ]
          },
          "metadata": {}
        },
        {
          "output_type": "display_data",
          "data": {
            "text/plain": [
              "<Figure size 640x480 with 1 Axes>"
            ],
            "image/png": "[encoded data removed]"
          },
          "metadata": {}
        }
      ]
    },
    {
      "cell_type": "markdown",
      "source": [
        "## View accuracy from epoch with lowest loss"
      ],
      "metadata": {
        "id": "dWDBEsa9Jcov"
      }
    },
    {
      "cell_type": "code",
      "source": [
        "if fitNew == True:\n",
        "  #load in best weights\n",
        "  bestWeights = torch.load(\"checkpoint.pth\")\n",
        "  model.load_state_dict(bestWeights)\n",
        "\n",
        "  #check of prediction accuracy for model\n",
        "  trialLevelAcc = pd.DataFrame(index=range(len(test_dataloader.dataset)), columns = range(1))\n",
        "  trialLevelPredictions = pd.DataFrame(index=range(len(test_dataloader.dataset)), columns = range(1))\n",
        "  trialLevelLogits = pd.DataFrame(index=range(len(test_dataloader.dataset)), columns = range(6))\n",
        "  test_model(test_dataloader, model, loss_fn, trialLevelAcc,\n",
        "           trialLevelPredictions, trialLevelLogits, mode = \"accuracy\")\n",
        "\n",
        "\n",
        "else:\n",
        "  print(\"Toggle to newly fit models has been turned off\")"
      ],
      "metadata": {
        "id": "AKMDIOaePgmI",
        "colab": {
          "base_uri": "https://localhost:8080/"
        },
        "outputId": "5cbc447d-1936-4919-db7e-92af973de096"
      },
      "execution_count": 22,
      "outputs": [
        {
          "output_type": "stream",
          "name": "stdout",
          "text": [
            "Accuracy: 58.995482% \n",
            "\n"
          ]
        }
      ]
    },
    {
      "cell_type": "markdown",
      "source": [
        "## Download relevant model performance metrics as .csv files through Google Drive\n",
        "This is done in multiple code sections because the resulting files are quite large, and some may not  download if all are run in one section."
      ],
      "metadata": {
        "id": "pv_4aFEBFmPQ"
      }
    },
    {
      "cell_type": "code",
      "source": [
        "if fitNew == True:\n",
        "  #trial-level accuracy across epochs\n",
        "  performanceSummary.to_csv(\"acrossEpochAccuracy_\" + analysisString + \"_Decay.csv\")\n",
        "  files.download(\"acrossEpochAccuracy_\" + analysisString + \"_Decay.csv\")\n",
        "\n",
        "else:\n",
        "  print(\"Toggle to newly fit models has been turned off\")"
      ],
      "metadata": {
        "id": "TQueYO8vxpiU",
        "outputId": "a27b1193-8eb0-4746-e7f8-0d0ed3b2de0c",
        "colab": {
          "base_uri": "https://localhost:8080/",
          "height": 17
        }
      },
      "execution_count": 26,
      "outputs": [
        {
          "output_type": "display_data",
          "data": {
            "text/plain": [
              "<IPython.core.display.Javascript object>"
            ],
            "application/javascript": [
              "\n",
              "    async function download(id, filename, size) {\n",
              "      if (!google.colab.kernel.accessAllowed) {\n",
              "        return;\n",
              "      }\n",
              "      const div = document.createElement('div');\n",
              "      const label = document.createElement('label');\n",
              "      label.textContent = `Downloading \"${filename}\": `;\n",
              "      div.appendChild(label);\n",
              "      const progress = document.createElement('progress');\n",
              "      progress.max = size;\n",
              "      div.appendChild(progress);\n",
              "      document.body.appendChild(div);\n",
              "\n",
              "      const buffers = [];\n",
              "      let downloaded = 0;\n",
              "\n",
              "      const channel = await google.colab.kernel.comms.open(id);\n",
              "      // Send a message to notify the kernel that we're ready.\n",
              "      channel.send({})\n",
              "\n",
              "      for await (const message of channel.messages) {\n",
              "        // Send a message to notify the kernel that we're ready.\n",
              "        channel.send({})\n",
              "        if (message.buffers) {\n",
              "          for (const buffer of message.buffers) {\n",
              "            buffers.push(buffer);\n",
              "            downloaded += buffer.byteLength;\n",
              "            progress.value = downloaded;\n",
              "          }\n",
              "        }\n",
              "      }\n",
              "      const blob = new Blob(buffers, {type: 'application/binary'});\n",
              "      const a = document.createElement('a');\n",
              "      a.href = window.URL.createObjectURL(blob);\n",
              "      a.download = filename;\n",
              "      div.appendChild(a);\n",
              "      a.click();\n",
              "      div.remove();\n",
              "    }\n",
              "  "
            ]
          },
          "metadata": {}
        },
        {
          "output_type": "display_data",
          "data": {
            "text/plain": [
              "<IPython.core.display.Javascript object>"
            ],
            "application/javascript": [
              "download(\"download_8c3c9a30-4cba-4337-933b-27fc39a10d8f\", \"acrossEpochAccuracy_GrubbLiTargLoc_Decay.csv\", 1715790)"
            ]
          },
          "metadata": {}
        }
      ]
    },
    {
      "cell_type": "code",
      "source": [
        "if fitNew == True:\n",
        "\n",
        "  #trial-level accuracy from best epoch\n",
        "  trialLevelAcc.to_csv(\"trialLevelAccuracy_\" + analysisString + \"_Decay.csv\")\n",
        "  files.download(\"trialLevelAccuracy_\" + analysisString + \"_Decay.csv\")\n",
        "\n",
        "  #model weights\n",
        "  torch.save(bestWeights, \"model_state_\" + analysisString + \"_Decay.pth\") #.pth file is type used for storing parameter weights\n",
        "  files.download(\"model_state_\" + analysisString + \"_Decay.pth\")\n",
        "\n",
        "else:\n",
        "  print(\"Toggle to newly fit models has been turned off\")"
      ],
      "metadata": {
        "colab": {
          "base_uri": "https://localhost:8080/",
          "height": 17
        },
        "id": "ovJn0dyxS4m9",
        "outputId": "f047db56-9575-43fe-baaf-aabed81923c5"
      },
      "execution_count": 25,
      "outputs": [
        {
          "output_type": "display_data",
          "data": {
            "text/plain": [
              "<IPython.core.display.Javascript object>"
            ],
            "application/javascript": [
              "\n",
              "    async function download(id, filename, size) {\n",
              "      if (!google.colab.kernel.accessAllowed) {\n",
              "        return;\n",
              "      }\n",
              "      const div = document.createElement('div');\n",
              "      const label = document.createElement('label');\n",
              "      label.textContent = `Downloading \"${filename}\": `;\n",
              "      div.appendChild(label);\n",
              "      const progress = document.createElement('progress');\n",
              "      progress.max = size;\n",
              "      div.appendChild(progress);\n",
              "      document.body.appendChild(div);\n",
              "\n",
              "      const buffers = [];\n",
              "      let downloaded = 0;\n",
              "\n",
              "      const channel = await google.colab.kernel.comms.open(id);\n",
              "      // Send a message to notify the kernel that we're ready.\n",
              "      channel.send({})\n",
              "\n",
              "      for await (const message of channel.messages) {\n",
              "        // Send a message to notify the kernel that we're ready.\n",
              "        channel.send({})\n",
              "        if (message.buffers) {\n",
              "          for (const buffer of message.buffers) {\n",
              "            buffers.push(buffer);\n",
              "            downloaded += buffer.byteLength;\n",
              "            progress.value = downloaded;\n",
              "          }\n",
              "        }\n",
              "      }\n",
              "      const blob = new Blob(buffers, {type: 'application/binary'});\n",
              "      const a = document.createElement('a');\n",
              "      a.href = window.URL.createObjectURL(blob);\n",
              "      a.download = filename;\n",
              "      div.appendChild(a);\n",
              "      a.click();\n",
              "      div.remove();\n",
              "    }\n",
              "  "
            ]
          },
          "metadata": {}
        },
        {
          "output_type": "display_data",
          "data": {
            "text/plain": [
              "<IPython.core.display.Javascript object>"
            ],
            "application/javascript": [
              "download(\"download_c6023c95-9f85-4ab1-8d5d-7d30cdb787c1\", \"acrossEpochAccuracy_GrubbLiTargLoc_Decay.csv\", 1715790)"
            ]
          },
          "metadata": {}
        },
        {
          "output_type": "display_data",
          "data": {
            "text/plain": [
              "<IPython.core.display.Javascript object>"
            ],
            "application/javascript": [
              "\n",
              "    async function download(id, filename, size) {\n",
              "      if (!google.colab.kernel.accessAllowed) {\n",
              "        return;\n",
              "      }\n",
              "      const div = document.createElement('div');\n",
              "      const label = document.createElement('label');\n",
              "      label.textContent = `Downloading \"${filename}\": `;\n",
              "      div.appendChild(label);\n",
              "      const progress = document.createElement('progress');\n",
              "      progress.max = size;\n",
              "      div.appendChild(progress);\n",
              "      document.body.appendChild(div);\n",
              "\n",
              "      const buffers = [];\n",
              "      let downloaded = 0;\n",
              "\n",
              "      const channel = await google.colab.kernel.comms.open(id);\n",
              "      // Send a message to notify the kernel that we're ready.\n",
              "      channel.send({})\n",
              "\n",
              "      for await (const message of channel.messages) {\n",
              "        // Send a message to notify the kernel that we're ready.\n",
              "        channel.send({})\n",
              "        if (message.buffers) {\n",
              "          for (const buffer of message.buffers) {\n",
              "            buffers.push(buffer);\n",
              "            downloaded += buffer.byteLength;\n",
              "            progress.value = downloaded;\n",
              "          }\n",
              "        }\n",
              "      }\n",
              "      const blob = new Blob(buffers, {type: 'application/binary'});\n",
              "      const a = document.createElement('a');\n",
              "      a.href = window.URL.createObjectURL(blob);\n",
              "      a.download = filename;\n",
              "      div.appendChild(a);\n",
              "      a.click();\n",
              "      div.remove();\n",
              "    }\n",
              "  "
            ]
          },
          "metadata": {}
        },
        {
          "output_type": "display_data",
          "data": {
            "text/plain": [
              "<IPython.core.display.Javascript object>"
            ],
            "application/javascript": [
              "download(\"download_6dac8573-63a3-4b01-a37c-9868dd22846d\", \"trialLevelAccuracy_GrubbLiTargLoc_Decay.csv\", 77239)"
            ]
          },
          "metadata": {}
        },
        {
          "output_type": "display_data",
          "data": {
            "text/plain": [
              "<IPython.core.display.Javascript object>"
            ],
            "application/javascript": [
              "\n",
              "    async function download(id, filename, size) {\n",
              "      if (!google.colab.kernel.accessAllowed) {\n",
              "        return;\n",
              "      }\n",
              "      const div = document.createElement('div');\n",
              "      const label = document.createElement('label');\n",
              "      label.textContent = `Downloading \"${filename}\": `;\n",
              "      div.appendChild(label);\n",
              "      const progress = document.createElement('progress');\n",
              "      progress.max = size;\n",
              "      div.appendChild(progress);\n",
              "      document.body.appendChild(div);\n",
              "\n",
              "      const buffers = [];\n",
              "      let downloaded = 0;\n",
              "\n",
              "      const channel = await google.colab.kernel.comms.open(id);\n",
              "      // Send a message to notify the kernel that we're ready.\n",
              "      channel.send({})\n",
              "\n",
              "      for await (const message of channel.messages) {\n",
              "        // Send a message to notify the kernel that we're ready.\n",
              "        channel.send({})\n",
              "        if (message.buffers) {\n",
              "          for (const buffer of message.buffers) {\n",
              "            buffers.push(buffer);\n",
              "            downloaded += buffer.byteLength;\n",
              "            progress.value = downloaded;\n",
              "          }\n",
              "        }\n",
              "      }\n",
              "      const blob = new Blob(buffers, {type: 'application/binary'});\n",
              "      const a = document.createElement('a');\n",
              "      a.href = window.URL.createObjectURL(blob);\n",
              "      a.download = filename;\n",
              "      div.appendChild(a);\n",
              "      a.click();\n",
              "      div.remove();\n",
              "    }\n",
              "  "
            ]
          },
          "metadata": {}
        },
        {
          "output_type": "display_data",
          "data": {
            "text/plain": [
              "<IPython.core.display.Javascript object>"
            ],
            "application/javascript": [
              "download(\"download_8792732b-8baf-4de1-947b-f1fb889d3e5c\", \"model_state_GrubbLiTargLoc_Decay.pth\", 1964907)"
            ]
          },
          "metadata": {}
        }
      ]
    },
    {
      "cell_type": "code",
      "source": [
        "if fitNew == True:\n",
        "  #trial-level predictions from best epoch\n",
        "  trialLevelPredictions.to_csv(\"trialLevelPredictions_\" + analysisString + \"_Decay.csv\")\n",
        "  files.download(\"trialLevelPredictions_\" + analysisString + \"_Decay.csv\")\n",
        "\n",
        "  #trial-level logits (CNN output values) from best epoch\n",
        "  trialLevelLogits.to_csv(\"trialLevelOutputs_\" + analysisString + \"_Decay.csv\")\n",
        "  files.download(\"trialLevelOutputs_\" + analysisString + \"_Decay.csv\")\n",
        "\n",
        "else:\n",
        "  print(\"Toggle to newly fit models has been turned off\")"
      ],
      "metadata": {
        "colab": {
          "base_uri": "https://localhost:8080/",
          "height": 17
        },
        "id": "eTeetgdzi8Bk",
        "outputId": "f25dea46-1619-4a9a-80bc-43327ed4b659"
      },
      "execution_count": 24,
      "outputs": [
        {
          "output_type": "display_data",
          "data": {
            "text/plain": [
              "<IPython.core.display.Javascript object>"
            ],
            "application/javascript": [
              "\n",
              "    async function download(id, filename, size) {\n",
              "      if (!google.colab.kernel.accessAllowed) {\n",
              "        return;\n",
              "      }\n",
              "      const div = document.createElement('div');\n",
              "      const label = document.createElement('label');\n",
              "      label.textContent = `Downloading \"${filename}\": `;\n",
              "      div.appendChild(label);\n",
              "      const progress = document.createElement('progress');\n",
              "      progress.max = size;\n",
              "      div.appendChild(progress);\n",
              "      document.body.appendChild(div);\n",
              "\n",
              "      const buffers = [];\n",
              "      let downloaded = 0;\n",
              "\n",
              "      const channel = await google.colab.kernel.comms.open(id);\n",
              "      // Send a message to notify the kernel that we're ready.\n",
              "      channel.send({})\n",
              "\n",
              "      for await (const message of channel.messages) {\n",
              "        // Send a message to notify the kernel that we're ready.\n",
              "        channel.send({})\n",
              "        if (message.buffers) {\n",
              "          for (const buffer of message.buffers) {\n",
              "            buffers.push(buffer);\n",
              "            downloaded += buffer.byteLength;\n",
              "            progress.value = downloaded;\n",
              "          }\n",
              "        }\n",
              "      }\n",
              "      const blob = new Blob(buffers, {type: 'application/binary'});\n",
              "      const a = document.createElement('a');\n",
              "      a.href = window.URL.createObjectURL(blob);\n",
              "      a.download = filename;\n",
              "      div.appendChild(a);\n",
              "      a.click();\n",
              "      div.remove();\n",
              "    }\n",
              "  "
            ]
          },
          "metadata": {}
        },
        {
          "output_type": "display_data",
          "data": {
            "text/plain": [
              "<IPython.core.display.Javascript object>"
            ],
            "application/javascript": [
              "download(\"download_7434ef2b-60b2-4222-b3dc-9946916fa172\", \"trialLevelPredictions_GrubbLiTargLoc_Decay.csv\", 51575)"
            ]
          },
          "metadata": {}
        },
        {
          "output_type": "display_data",
          "data": {
            "text/plain": [
              "<IPython.core.display.Javascript object>"
            ],
            "application/javascript": [
              "\n",
              "    async function download(id, filename, size) {\n",
              "      if (!google.colab.kernel.accessAllowed) {\n",
              "        return;\n",
              "      }\n",
              "      const div = document.createElement('div');\n",
              "      const label = document.createElement('label');\n",
              "      label.textContent = `Downloading \"${filename}\": `;\n",
              "      div.appendChild(label);\n",
              "      const progress = document.createElement('progress');\n",
              "      progress.max = size;\n",
              "      div.appendChild(progress);\n",
              "      document.body.appendChild(div);\n",
              "\n",
              "      const buffers = [];\n",
              "      let downloaded = 0;\n",
              "\n",
              "      const channel = await google.colab.kernel.comms.open(id);\n",
              "      // Send a message to notify the kernel that we're ready.\n",
              "      channel.send({})\n",
              "\n",
              "      for await (const message of channel.messages) {\n",
              "        // Send a message to notify the kernel that we're ready.\n",
              "        channel.send({})\n",
              "        if (message.buffers) {\n",
              "          for (const buffer of message.buffers) {\n",
              "            buffers.push(buffer);\n",
              "            downloaded += buffer.byteLength;\n",
              "            progress.value = downloaded;\n",
              "          }\n",
              "        }\n",
              "      }\n",
              "      const blob = new Blob(buffers, {type: 'application/binary'});\n",
              "      const a = document.createElement('a');\n",
              "      a.href = window.URL.createObjectURL(blob);\n",
              "      a.download = filename;\n",
              "      div.appendChild(a);\n",
              "      a.click();\n",
              "      div.remove();\n",
              "    }\n",
              "  "
            ]
          },
          "metadata": {}
        },
        {
          "output_type": "display_data",
          "data": {
            "text/plain": [
              "<IPython.core.display.Javascript object>"
            ],
            "application/javascript": [
              "download(\"download_c6e311a0-d097-4401-98e2-9fa7e0d3339f\", \"trialLevelOutputs_GrubbLiTargLoc_Decay.csv\", 916913)"
            ]
          },
          "metadata": {}
        }
      ]
    },
    {
      "cell_type": "markdown",
      "source": [
        "# **--------Section 3: Direct replication of reported results -------**\n",
        "\n",
        "This section only runs if `fitNew` is set to False. **Prior to running this section**, make sure to load the corresponding model weights into the Colab environment."
      ],
      "metadata": {
        "id": "JNRtSbaadxS6"
      }
    },
    {
      "cell_type": "markdown",
      "source": [
        "## View exact accuracy of the model from the corresponding results section\n",
        "If you would like to see the performance of the model that produced the classifcation accuracy reported in the corresponding results section, run the code below. **Prior to running this code,** upload the corresponding `.pth` file to the Colab environment."
      ],
      "metadata": {
        "id": "fyVaKQACB8a3"
      }
    },
    {
      "cell_type": "code",
      "source": [
        "if fitNew == False:\n",
        "  if replicateAnalysis == \"massaTarget\":\n",
        "    weightsName = \"model_state_MassaTargLoc_Decay.pth\"\n",
        "\n",
        "  elif replicateAnalysis == \"grubbLiTarget\":\n",
        "    weightsName = \"model_state_GrubbLiTargLoc_Decay.pth\"\n",
        "\n",
        "  elif replicateAnalysis == \"massaDistractor\":\n",
        "    weightsName = \"model_state_MassaDistLoc_Decay.pth\"\n",
        "\n",
        "  elif replicateAnalysis == \"grubbLiDistractor\":\n",
        "    weightsName = \"model_state_GrubbLiDistLoc_Decay.pth\"\n",
        "\n",
        "  #load in weights\n",
        "  modelWeights = torch.load(weightsName)\n",
        "  model.load_state_dict(modelWeights)\n",
        "\n",
        "  #check accuracy\n",
        "  performanceReplication = pd.DataFrame(index=range(len(test_dataloader.dataset)), columns = range(1))\n",
        "  predictionsReplication = pd.DataFrame(index=range(len(test_dataloader.dataset)), columns = range(1))\n",
        "  logitsReplication = pd.DataFrame(index=range(len(test_dataloader.dataset)), columns = range(6))\n",
        "  test_model(test_dataloader, model, loss_fn, performanceReplication,\n",
        "            predictionsReplication, logitsReplication, mode = \"accuracy\")\n",
        "else:\n",
        "  print(\"Toggle to directly replicate results has been turned off\")"
      ],
      "metadata": {
        "id": "WzdzbEXAa9WQ"
      },
      "execution_count": null,
      "outputs": []
    },
    {
      "cell_type": "markdown",
      "source": [
        "# **--------Section 4: SHAP analysis -------**\n",
        "\n",
        "This section runs whether you are trying to newly fit the models to the data (`fitNew = True`) or just produce the exact results reported in the paper (`fitNew = False`). We have made the SHAP analysis its own section as it takes a substantial amount of time + processing to run."
      ],
      "metadata": {
        "id": "68bWwXkaebTK"
      }
    },
    {
      "cell_type": "markdown",
      "source": [
        "## Calculate SHAP values for each trial of validation set"
      ],
      "metadata": {
        "id": "JAjSseyvBIWS"
      }
    },
    {
      "cell_type": "code",
      "source": [
        "trialLevelSHAP = pd.DataFrame(index=range(len(test_dataloader.dataset)), columns = range(len(test_dataloader.dataset[0][0][0])))\n",
        "print(trialLevelSHAP.shape)\n",
        "\n",
        "shapBatch = test_dataloader.dataset[0:100] #first 100 trials used for explanation model\n",
        "explainer = shap.DeepExplainer(model, shapBatch[0])\n",
        "\n",
        "loopDur = len(test_dataloader.dataset)\n",
        "for s in range(loopDur):\n",
        "\n",
        "  #calculate SHAP values relative to explainer set\n",
        "  shap_values = explainer.shap_values(test_dataloader.dataset[s:s+1][0])\n",
        "\n",
        "  #compute global feature importance by taking absolute value\n",
        "  abs_shap_values = np.abs(shap_values)\n",
        "\n",
        "  #average across classes and features to get one global feature importance value per sample\n",
        "  SHAP = abs_shap_values.mean(axis=(0,1,3))\n",
        "\n",
        "  #save trial-level SHAP values to initialized dataframe\n",
        "  trialLevelSHAP.iloc[s,:] = SHAP\n",
        "  if s % 100 ==0:\n",
        "    print(s)\n",
        "\n",
        "print(\"Done!\")"
      ],
      "metadata": {
        "id": "WEkHk05hDwAN",
        "colab": {
          "base_uri": "https://localhost:8080/"
        },
        "outputId": "d98da332-79d2-4485-ee3d-11ac400679d7"
      },
      "execution_count": 27,
      "outputs": [
        {
          "output_type": "stream",
          "name": "stdout",
          "text": [
            "(7526, 600)\n"
          ]
        },
        {
          "output_type": "stream",
          "name": "stderr",
          "text": [
            "/usr/local/lib/python3.12/dist-packages/shap/explainers/_deep/deep_pytorch.py:255: UserWarning: unrecognized nn.Module: Flatten\n",
            "  warnings.warn(f\"unrecognized nn.Module: {module_type}\")\n"
          ]
        },
        {
          "output_type": "stream",
          "name": "stdout",
          "text": [
            "0\n",
            "100\n",
            "200\n",
            "300\n",
            "400\n",
            "500\n",
            "600\n",
            "700\n",
            "800\n",
            "900\n",
            "1000\n",
            "1100\n",
            "1200\n",
            "1300\n",
            "1400\n",
            "1500\n",
            "1600\n",
            "1700\n",
            "1800\n",
            "1900\n",
            "2000\n",
            "2100\n",
            "2200\n",
            "2300\n",
            "2400\n",
            "2500\n",
            "2600\n",
            "2700\n",
            "2800\n",
            "2900\n",
            "3000\n",
            "3100\n",
            "3200\n",
            "3300\n",
            "3400\n",
            "3500\n",
            "3600\n",
            "3700\n",
            "3800\n",
            "3900\n",
            "4000\n",
            "4100\n",
            "4200\n",
            "4300\n",
            "4400\n",
            "4500\n",
            "4600\n",
            "4700\n",
            "4800\n",
            "4900\n",
            "5000\n",
            "5100\n",
            "5200\n",
            "5300\n",
            "5400\n",
            "5500\n",
            "5600\n",
            "5700\n",
            "5800\n",
            "5900\n",
            "6000\n",
            "6100\n",
            "6200\n",
            "6300\n",
            "6400\n",
            "6500\n",
            "6600\n",
            "6700\n",
            "6800\n",
            "6900\n",
            "7000\n",
            "7100\n",
            "7200\n",
            "7300\n",
            "7400\n",
            "7500\n",
            "Done!\n"
          ]
        }
      ]
    },
    {
      "cell_type": "code",
      "source": [
        "#Graphing heatmap of results for last trial as a quick check\n",
        "df = pd.DataFrame({\"SHAP values for each sample in timecourse\": abs_shap_values.mean(axis=(0,1,3))},\n",
        "                  index=range(len(shap_values[0][0])))\n",
        "g = sns.heatmap(df, fmt=\"g\", cmap='viridis')\n",
        "g.set_yticks(range(0,600,50))\n",
        "g.set_yticklabels(range(0,600,50))\n",
        "plt.show()"
      ],
      "metadata": {
        "id": "YbdUOf8I3VXX",
        "colab": {
          "base_uri": "https://localhost:8080/",
          "height": 437
        },
        "outputId": "9507970d-ae15-4bf6-f973-e69bef06483e"
      },
      "execution_count": 28,
      "outputs": [
        {
          "output_type": "display_data",
          "data": {
            "text/plain": [
              "<Figure size 640x480 with 2 Axes>"
            ],
            "image/png": "[encoded data removed]"
          },
          "metadata": {}
        }
      ]
    },
    {
      "cell_type": "markdown",
      "source": [
        "## Download SHAP values as .csv file"
      ],
      "metadata": {
        "id": "LK2cKbmYJiji"
      }
    },
    {
      "cell_type": "code",
      "source": [
        "trialLevelSHAP = pd.DataFrame(trialLevelSHAP)\n",
        "trialLevelSHAP.to_csv(\"shapValues_\" + analysisString + \"_Decay.csv\")\n",
        "files.download(\"shapValues_\" + analysisString + \"_Decay.csv\")"
      ],
      "metadata": {
        "id": "Hu5KpAP6jBcc",
        "colab": {
          "base_uri": "https://localhost:8080/",
          "height": 17
        },
        "outputId": "7b6bbd54-1912-4927-940f-eefdb38fc68d"
      },
      "execution_count": 29,
      "outputs": [
        {
          "output_type": "display_data",
          "data": {
            "text/plain": [
              "<IPython.core.display.Javascript object>"
            ],
            "application/javascript": [
              "\n",
              "    async function download(id, filename, size) {\n",
              "      if (!google.colab.kernel.accessAllowed) {\n",
              "        return;\n",
              "      }\n",
              "      const div = document.createElement('div');\n",
              "      const label = document.createElement('label');\n",
              "      label.textContent = `Downloading \"${filename}\": `;\n",
              "      div.appendChild(label);\n",
              "      const progress = document.createElement('progress');\n",
              "      progress.max = size;\n",
              "      div.appendChild(progress);\n",
              "      document.body.appendChild(div);\n",
              "\n",
              "      const buffers = [];\n",
              "      let downloaded = 0;\n",
              "\n",
              "      const channel = await google.colab.kernel.comms.open(id);\n",
              "      // Send a message to notify the kernel that we're ready.\n",
              "      channel.send({})\n",
              "\n",
              "      for await (const message of channel.messages) {\n",
              "        // Send a message to notify the kernel that we're ready.\n",
              "        channel.send({})\n",
              "        if (message.buffers) {\n",
              "          for (const buffer of message.buffers) {\n",
              "            buffers.push(buffer);\n",
              "            downloaded += buffer.byteLength;\n",
              "            progress.value = downloaded;\n",
              "          }\n",
              "        }\n",
              "      }\n",
              "      const blob = new Blob(buffers, {type: 'application/binary'});\n",
              "      const a = document.createElement('a');\n",
              "      a.href = window.URL.createObjectURL(blob);\n",
              "      a.download = filename;\n",
              "      div.appendChild(a);\n",
              "      a.click();\n",
              "      div.remove();\n",
              "    }\n",
              "  "
            ]
          },
          "metadata": {}
        },
        {
          "output_type": "display_data",
          "data": {
            "text/plain": [
              "<IPython.core.display.Javascript object>"
            ],
            "application/javascript": [
              "download(\"download_3cd517d2-938a-4879-9a3f-50c03f6acd47\", \"shapValues_GrubbLiTargLoc_Decay.csv\", 93781399)"
            ]
          },
          "metadata": {}
        }
      ]
    }
  ],
  "metadata": {
    "kernelspec": {
      "display_name": "Python 3",
      "name": "python3"
    },
    "language_info": {
      "codemirror_mode": {
        "name": "ipython",
        "version": 3
      },
      "file_extension": ".py",
      "mimetype": "text/x-python",
      "name": "python",
      "nbconvert_exporter": "python",
      "pygments_lexer": "ipython3",
      "version": "3.10.13"
    },
    "colab": {
      "provenance": [],
      "machine_shape": "hm",
      "gpuType": "V6E1",
      "include_colab_link": true
    },
    "accelerator": "TPU"
  },
  "nbformat": 4,
  "nbformat_minor": 0
}